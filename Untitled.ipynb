{
 "cells": [
  {
   "cell_type": "markdown",
   "id": "87c7cda2-0a0e-4114-a987-7309508e8d49",
   "metadata": {},
   "source": [
    "# Nested loops"
   ]
  },
  {
   "cell_type": "code",
   "execution_count": 2,
   "id": "5fcc0d23-2c65-4009-9ff8-ef0981878a26",
   "metadata": {},
   "outputs": [],
   "source": [
    "# A loop inside a loop is called as nested loop."
   ]
  },
  {
   "cell_type": "code",
   "execution_count": 4,
   "id": "ec175112-8f56-4f4c-81f0-16586138e5cf",
   "metadata": {},
   "outputs": [],
   "source": [
    "# Nested loops are also used to solve pattern problems."
   ]
  },
  {
   "cell_type": "code",
   "execution_count": 16,
   "id": "95c4de02-e424-459e-9903-fe13b98da02d",
   "metadata": {},
   "outputs": [
    {
     "name": "stdout",
     "output_type": "stream",
     "text": [
      "1 2 3 4 5 6 7 8 9 10 \n",
      "1 2 3 4 5 6 7 8 9 10 \n",
      "1 2 3 4 5 6 7 8 9 10 \n"
     ]
    }
   ],
   "source": [
    "for i in range (0,3):\n",
    "    for j in range (1,11):\n",
    "        print (j, end=\" \")\n",
    "    print()"
   ]
  },
  {
   "cell_type": "code",
   "execution_count": 23,
   "id": "18154723-2ea6-4a53-b81a-3099ad244406",
   "metadata": {},
   "outputs": [
    {
     "name": "stdout",
     "output_type": "stream",
     "text": [
      "1 \n",
      "1 2 \n",
      "1 2 3 \n",
      "1 2 3 4 \n",
      "1 2 3 4 5 \n"
     ]
    }
   ],
   "source": [
    "for i in range(1,6):\n",
    "    for j in range(1,i+1):\n",
    "        print(j,end=\" \")\n",
    "    print()   "
   ]
  },
  {
   "cell_type": "code",
   "execution_count": null,
   "id": "96309ffe-194f-4c84-bf38-857a154982c2",
   "metadata": {},
   "outputs": [],
   "source": []
  },
  {
   "cell_type": "markdown",
   "id": "04b83a33-7949-4f5a-a235-5e59754d2e50",
   "metadata": {},
   "source": [
    "# For loop with conditional statements"
   ]
  },
  {
   "cell_type": "code",
   "execution_count": 34,
   "id": "44dedd1e-bcee-4532-b976-84be7aeae497",
   "metadata": {},
   "outputs": [
    {
     "name": "stdout",
     "output_type": "stream",
     "text": [
      "1\n",
      "2\n",
      "Add this song to my favourite\n",
      "4\n",
      "5\n",
      "6\n",
      "7\n",
      "8\n",
      "9\n",
      "10\n"
     ]
    }
   ],
   "source": [
    "for i in range (1,11):\n",
    "  if i == 3:\n",
    "    print(\"Add this song to my favourite\")\n",
    "  else:\n",
    "    print(i)"
   ]
  },
  {
   "cell_type": "code",
   "execution_count": null,
   "id": "c66658b3-1bb6-49b3-9889-1f36229fe231",
   "metadata": {},
   "outputs": [],
   "source": [
    "for i in range (1,101):\n",
    "    if i%8 "
   ]
  }
 ],
 "metadata": {
  "kernelspec": {
   "display_name": "Python [conda env:base] *",
   "language": "python",
   "name": "conda-base-py"
  },
  "language_info": {
   "codemirror_mode": {
    "name": "ipython",
    "version": 3
   },
   "file_extension": ".py",
   "mimetype": "text/x-python",
   "name": "python",
   "nbconvert_exporter": "python",
   "pygments_lexer": "ipython3",
   "version": "3.12.7"
  }
 },
 "nbformat": 4,
 "nbformat_minor": 5
}
