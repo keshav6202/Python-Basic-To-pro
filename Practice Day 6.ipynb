{
 "cells": [
  {
   "cell_type": "markdown",
   "id": "1d318fda-7c58-47f9-8833-9fd42207641e",
   "metadata": {},
   "source": [
    "# Practice Day 6"
   ]
  },
  {
   "cell_type": "code",
   "execution_count": 2,
   "id": "0b0f2ab4-fdda-49de-8ed9-522facc572c7",
   "metadata": {},
   "outputs": [],
   "source": [
    "# Access the nested key marks from the following nested data:\n",
    "# {\n",
    " # \"student\": {\n",
    " #   \"grade\": {\n",
    "  #    \"name\": \"David\",\n",
    "   #   \"marks\": {\n",
    "    #    \"math\": 87,\n",
    "     # }\n",
    "    #}\n",
    "  #}\n",
    "#}\n"
   ]
  },
  {
   "cell_type": "code",
   "execution_count": 8,
   "id": "44d1284d-9f68-498b-bbb4-98bad2f63040",
   "metadata": {},
   "outputs": [
    {
     "name": "stdout",
     "output_type": "stream",
     "text": [
      "{\"name\": \"David\", \"age\": 13, \"marks\": 87} <class 'str'>\n"
     ]
    }
   ],
   "source": [
    "# Convert the following dictionary into JSON format.\n",
    "# Student_data = {\"name\": \"David\", \"age\": 13, \"marks\": 87}\n",
    "\n",
    "import json\n",
    "Student_data = {\"name\": \"David\", \"age\": 13, \"marks\": 87}\n",
    "data = json.dumps(Student_data)\n",
    "print(data,type(data))"
   ]
  },
  {
   "cell_type": "code",
   "execution_count": 18,
   "id": "0349f7da-8d10-4629-9b04-36a05043feb1",
   "metadata": {},
   "outputs": [
    {
     "name": "stdout",
     "output_type": "stream",
     "text": [
      "13\n"
     ]
    }
   ],
   "source": [
    "# Access the value of age from the given data.\n",
    "# Student_data = {\"name\": \"David\", \"age\": 13, \"marks\": 87}\n",
    "import json\n",
    "\n",
    "Student_data = {\"name\": \"David\", \"age\": 13, \"marks\": 87}\n",
    "\n",
    "# Convert dictionary to JSON string\n",
    "json_string = json.dumps(Student_data)\n",
    "\n",
    "# Now load JSON string back to dictionary (optional step)\n",
    "data = json.loads(json_string)\n",
    "\n",
    "# Access the age\n",
    "print(data[\"age\"])   # Output: 13\n"
   ]
  },
  {
   "cell_type": "code",
   "execution_count": 22,
   "id": "62330906-5555-4a76-a630-b05d99542162",
   "metadata": {},
   "outputs": [
    {
     "name": "stdout",
     "output_type": "stream",
     "text": [
      "{'name': 'David', 'age': 13, 'marks': 87}\n"
     ]
    }
   ],
   "source": [
    "# Pretty Print following JSON data.\n",
    "# Student_data = {\"name\": \"David\", \"age\": 13, \"marks\": 87}\n",
    "\n",
    "Student_data = {\"name\": \"David\", \"age\": 13, \"marks\": 87}\n",
    "json_string = json.dumps(Student_data,indent=4,separators=(\", \", \": \"))\n",
    "print(data)"
   ]
  },
  {
   "cell_type": "code",
   "execution_count": 30,
   "id": "60735b41-c797-4667-9497-76993ac77785",
   "metadata": {
    "scrolled": true
   },
   "outputs": [
    {
     "name": "stdout",
     "output_type": "stream",
     "text": [
      "The data has been added to the file\n"
     ]
    }
   ],
   "source": [
    "# Sort the following JSON keys and write them into a file.\n",
    "# Student_data = {\"name\": \"David\", \"age\": 13, \"marks\": 87}\n",
    "\n",
    "Student_data = {\"name\": \"David\", \"age\": 13, \"marks\": 87}\n",
    "data=json.dumps(Student_data,indent=4,sort_keys=True)\n",
    "with open(\"demo.json\",\"w\") as f:  \n",
    " f.write(data)\n",
    "print(\"The data has been added to the file\")\n"
   ]
  },
  {
   "cell_type": "code",
   "execution_count": null,
   "id": "7337aba3-591f-4706-b651-fc055c005834",
   "metadata": {},
   "outputs": [],
   "source": []
  }
 ],
 "metadata": {
  "kernelspec": {
   "display_name": "Python [conda env:base] *",
   "language": "python",
   "name": "conda-base-py"
  },
  "language_info": {
   "codemirror_mode": {
    "name": "ipython",
    "version": 3
   },
   "file_extension": ".py",
   "mimetype": "text/x-python",
   "name": "python",
   "nbconvert_exporter": "python",
   "pygments_lexer": "ipython3",
   "version": "3.12.7"
  }
 },
 "nbformat": 4,
 "nbformat_minor": 5
}
