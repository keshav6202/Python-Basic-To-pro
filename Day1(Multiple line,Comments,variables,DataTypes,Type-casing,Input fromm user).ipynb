{
 "cells": [
  {
   "cell_type": "code",
   "execution_count": 42,
   "id": "cf672502-ebad-4910-ac32-224126474c90",
   "metadata": {},
   "outputs": [],
   "source": [
    "#Python is compile and interpreter,high level language,object oriented language and it is develpoed by Guido van Rossum "
   ]
  },
  {
   "cell_type": "markdown",
   "id": "1021cb38-d319-4072-a38b-2c8da6fb3fe6",
   "metadata": {},
   "source": [
    "# How to print multiple line"
   ]
  },
  {
   "cell_type": "code",
   "execution_count": 2,
   "id": "acc1a5ef-3c61-40dd-b8e9-4c6168ec2db1",
   "metadata": {},
   "outputs": [],
   "source": [
    "# By using \"\"\" \"\"\" quotation we can print multiple lines and \\n also"
   ]
  },
  {
   "cell_type": "code",
   "execution_count": 4,
   "id": "c1d12727-1b15-42f8-b0dd-05afc3385489",
   "metadata": {},
   "outputs": [
    {
     "name": "stdout",
     "output_type": "stream",
     "text": [
      "Hello World\n"
     ]
    }
   ],
   "source": [
    "print(\"Hello World\")"
   ]
  },
  {
   "cell_type": "code",
   "execution_count": 14,
   "id": "b7c1b73a-044b-4246-aaa9-0d0a1a3c4abb",
   "metadata": {
    "collapsed": true,
    "jupyter": {
     "outputs_hidden": true
    }
   },
   "outputs": [
    {
     "name": "stdout",
     "output_type": "stream",
     "text": [
      "This is my 1st programming in python\n",
      "I want to become data analyst\n"
     ]
    }
   ],
   "source": [
    "print(\"\"\"This is my 1st programming in python\n",
    "I want to become data analyst\"\"\")"
   ]
  },
  {
   "cell_type": "code",
   "execution_count": 22,
   "id": "01c077e4-ea28-47d4-87e9-f4c34ef778c5",
   "metadata": {},
   "outputs": [
    {
     "name": "stdout",
     "output_type": "stream",
     "text": [
      "This is my 1st programming in python\n",
      " I want to become data analyst\n"
     ]
    }
   ],
   "source": [
    "print(\"This is my 1st programming in python\\n I want to become data analyst\")"
   ]
  },
  {
   "cell_type": "code",
   "execution_count": 24,
   "id": "7359cc43-73ad-46e8-b5c9-823073c5545f",
   "metadata": {},
   "outputs": [
    {
     "name": "stdout",
     "output_type": "stream",
     "text": [
      "It's going to rain today\n"
     ]
    }
   ],
   "source": [
    "print(\"It's going to rain today\")"
   ]
  },
  {
   "cell_type": "markdown",
   "id": "779f3c7b-fff5-4b53-8fdc-bb40f1fa86e0",
   "metadata": {},
   "source": [
    "# Comments in python"
   ]
  },
  {
   "cell_type": "code",
   "execution_count": 29,
   "id": "468d49ce-387d-4c67-aee5-99e8f00e104a",
   "metadata": {},
   "outputs": [],
   "source": [
    "# Single line comments(We use only #)"
   ]
  },
  {
   "cell_type": "code",
   "execution_count": 32,
   "id": "4392aaf0-cc2d-4993-9a39-9a95b17e9fa8",
   "metadata": {},
   "outputs": [],
   "source": [
    "# For multiple lines comments we use triple(\"\"\" \"\"\") quotation in python"
   ]
  },
  {
   "cell_type": "code",
   "execution_count": 38,
   "id": "1240cb30-949b-4b5e-9072-cfff0203fd64",
   "metadata": {},
   "outputs": [
    {
     "data": {
      "text/plain": [
       "' Welcome to my world\\nAnd today i am going to teach about python programming language\\nI hope you will understand in a easy way\\nif you have any problem then at the end ask me without any hesitation'"
      ]
     },
     "execution_count": 38,
     "metadata": {},
     "output_type": "execute_result"
    }
   ],
   "source": [
    "\"\"\" Welcome to my world\n",
    "And today i am going to teach about python programming language\n",
    "I hope you will understand in a easy way\n",
    "if you have any problem then at the end ask me without any hesitation\"\"\""
   ]
  },
  {
   "cell_type": "markdown",
   "id": "b948ea3b-7880-4c53-abc4-5588b2f06e98",
   "metadata": {},
   "source": [
    "# Variables in python"
   ]
  },
  {
   "cell_type": "code",
   "execution_count": 46,
   "id": "cc75f3fa-02dd-40d7-b911-d8ada868dbb2",
   "metadata": {},
   "outputs": [],
   "source": [
    "# Variable is a container that holds data inside it as a value."
   ]
  },
  {
   "cell_type": "code",
   "execution_count": 54,
   "id": "e251d2ce-016d-4cce-9f71-a19fb6c41498",
   "metadata": {},
   "outputs": [
    {
     "name": "stdout",
     "output_type": "stream",
     "text": [
      "hello\n"
     ]
    }
   ],
   "source": [
    "a=\"hello\"\n",
    "print(a)"
   ]
  },
  {
   "cell_type": "code",
   "execution_count": 56,
   "id": "a0d580fa-a41f-42fa-8237-4af01ac96546",
   "metadata": {},
   "outputs": [],
   "source": [
    "# 1.Python is a case sensitive language i.e it follows upper and lower case\n",
    "# 2.Make sure to not use space while creating a variable.\n",
    "# 3. Varaible must not start with number or soecial symbol."
   ]
  },
  {
   "cell_type": "markdown",
   "id": "9930b28a-9dc2-4661-8410-b7c680d9793f",
   "metadata": {},
   "source": [
    "# DataTypes"
   ]
  },
  {
   "cell_type": "code",
   "execution_count": null,
   "id": "900b6333-bd95-4ce7-9433-d06cf5a19c89",
   "metadata": {},
   "outputs": [],
   "source": [
    "# Data types means that what types of data is being stored and what types of operation we perform on it."
   ]
  },
  {
   "cell_type": "code",
   "execution_count": 59,
   "id": "9e063381-c904-46ac-acb5-3048980861e6",
   "metadata": {},
   "outputs": [],
   "source": [
    "# 1. Stirng(It is used by using \" \")\n",
    "# 2. Numeric types(int,float and complex)\n",
    "# 3. Sequence Types(list , tuples and range)\n",
    "# 4. Mapping type(dictionaries--->dict)\n",
    "# 5. Set types((set----> Union, intersection and difference)\n",
    "# 6. Boolean types(bool)\n",
    "# 7. Binary types(bytes,bytearray,memoryview)"
   ]
  },
  {
   "cell_type": "code",
   "execution_count": 61,
   "id": "7cb7aba0-4eb9-4ec0-8afd-643f60af2b7d",
   "metadata": {},
   "outputs": [],
   "source": [
    "# Default dataType is string in python."
   ]
  },
  {
   "cell_type": "markdown",
   "id": "2ffb2022-5265-4fb1-9ebe-ad032ded71c1",
   "metadata": {},
   "source": [
    "# How to take input from user in python"
   ]
  },
  {
   "cell_type": "code",
   "execution_count": 72,
   "id": "01bf51dd-4bc2-49f3-a8c4-177808eb15a2",
   "metadata": {},
   "outputs": [
    {
     "name": "stdin",
     "output_type": "stream",
     "text": [
      "Enter user's name: Keshav\n"
     ]
    },
    {
     "name": "stdout",
     "output_type": "stream",
     "text": [
      "Keshav\n"
     ]
    }
   ],
   "source": [
    "name=input(\"Enter user's name:\")\n",
    "print(name)"
   ]
  },
  {
   "cell_type": "code",
   "execution_count": 74,
   "id": "05542be5-96db-4c4d-bf6a-97ad48911e23",
   "metadata": {},
   "outputs": [
    {
     "name": "stdin",
     "output_type": "stream",
     "text": [
      "Enter user's age: 32\n"
     ]
    },
    {
     "name": "stdout",
     "output_type": "stream",
     "text": [
      "32\n"
     ]
    }
   ],
   "source": [
    "age=int(input(\"Enter user's age:\"))\n",
    "print(age)"
   ]
  },
  {
   "cell_type": "code",
   "execution_count": 76,
   "id": "0efcfd34-e312-4204-b42f-94f4a3f8b1af",
   "metadata": {},
   "outputs": [
    {
     "name": "stdin",
     "output_type": "stream",
     "text": [
      "Enter user's height: 5.6\n"
     ]
    },
    {
     "ename": "ValueError",
     "evalue": "invalid literal for int() with base 10: '5.6'",
     "output_type": "error",
     "traceback": [
      "\u001b[1;31m---------------------------------------------------------------------------\u001b[0m",
      "\u001b[1;31mValueError\u001b[0m                                Traceback (most recent call last)",
      "Cell \u001b[1;32mIn[76], line 1\u001b[0m\n\u001b[1;32m----> 1\u001b[0m height\u001b[38;5;241m=\u001b[39m\u001b[38;5;28mint\u001b[39m(\u001b[38;5;28minput\u001b[39m(\u001b[38;5;124m\"\u001b[39m\u001b[38;5;124mEnter user\u001b[39m\u001b[38;5;124m'\u001b[39m\u001b[38;5;124ms height:\u001b[39m\u001b[38;5;124m\"\u001b[39m))\n\u001b[0;32m      2\u001b[0m \u001b[38;5;28mprint\u001b[39m(height)\n",
      "\u001b[1;31mValueError\u001b[0m: invalid literal for int() with base 10: '5.6'"
     ]
    }
   ],
   "source": [
    "height=int(input(\"Enter user's height:\"))\n",
    "print(height)"
   ]
  },
  {
   "cell_type": "code",
   "execution_count": 78,
   "id": "b8dc78c4-7d2d-40f6-83b8-d671a9e99264",
   "metadata": {},
   "outputs": [
    {
     "name": "stdin",
     "output_type": "stream",
     "text": [
      "Enter user's height: 5.6\n"
     ]
    },
    {
     "name": "stdout",
     "output_type": "stream",
     "text": [
      "5.6\n"
     ]
    }
   ],
   "source": [
    "height=float(input(\"Enter user's height:\"))\n",
    "print(height)"
   ]
  },
  {
   "cell_type": "code",
   "execution_count": 80,
   "id": "bec792a5-8b03-405c-9d73-dc598dd52ae4",
   "metadata": {},
   "outputs": [
    {
     "name": "stdin",
     "output_type": "stream",
     "text": [
      "Enter an equation: 2+3\n"
     ]
    },
    {
     "name": "stdout",
     "output_type": "stream",
     "text": [
      "5\n"
     ]
    }
   ],
   "source": [
    "exp1=eval(input(\"Enter an equation:\"))\n",
    "print(exp1)"
   ]
  },
  {
   "cell_type": "code",
   "execution_count": null,
   "id": "df07cdd8-198f-4770-8862-b5260531ae6b",
   "metadata": {},
   "outputs": [],
   "source": []
  },
  {
   "cell_type": "markdown",
   "id": "a0ea3e44-7bdd-4e8c-9a3f-cd3209b0a4a2",
   "metadata": {},
   "source": [
    "# Type-casting in Python"
   ]
  },
  {
   "cell_type": "code",
   "execution_count": 83,
   "id": "86119cf2-5c51-49d7-95c7-5951d64cff9c",
   "metadata": {},
   "outputs": [],
   "source": [
    "# It's conversion of one datatype to another datatype is called type-casting"
   ]
  },
  {
   "cell_type": "code",
   "execution_count": 86,
   "id": "0b88d50e-e96f-44a4-a364-23bea3abf463",
   "metadata": {},
   "outputs": [],
   "source": [
    "# Two types of type-casting\n",
    "# 1. Implicit------>Where python itself converts one datatype to another datatype\n",
    "# 2. Explicit------>Where the user converts one datatype to another."
   ]
  },
  {
   "cell_type": "code",
   "execution_count": 95,
   "id": "f4685d33-01ff-47bf-b4e4-07bb058dbb96",
   "metadata": {},
   "outputs": [
    {
     "name": "stdout",
     "output_type": "stream",
     "text": [
      "Keshav <class 'str'>\n"
     ]
    }
   ],
   "source": [
    "name=\"Keshav\"\n",
    "print(name,type(name))"
   ]
  },
  {
   "cell_type": "code",
   "execution_count": 97,
   "id": "4eff6a34-1fdc-4118-b727-2657515ccf9a",
   "metadata": {},
   "outputs": [
    {
     "name": "stdout",
     "output_type": "stream",
     "text": [
      "12 <class 'int'>\n",
      "1.2 <class 'float'>\n"
     ]
    }
   ],
   "source": [
    "a=12\n",
    "b=1.2\n",
    "print(a,type(a))\n",
    "print(b,type(b))"
   ]
  },
  {
   "cell_type": "code",
   "execution_count": 99,
   "id": "aa8d2f04-9f91-4380-a5e7-d314643a2bb7",
   "metadata": {},
   "outputs": [
    {
     "name": "stdout",
     "output_type": "stream",
     "text": [
      "13.2 <class 'float'>\n"
     ]
    }
   ],
   "source": [
    "c=a+b\n",
    "print(c,type(c))"
   ]
  },
  {
   "cell_type": "code",
   "execution_count": 107,
   "id": "73476640-ee1a-412f-b332-5fe248fd9471",
   "metadata": {},
   "outputs": [
    {
     "name": "stdout",
     "output_type": "stream",
     "text": [
      "1 <class 'int'>\n"
     ]
    }
   ],
   "source": [
    "b=int(b)\n",
    "print(b,type(b))"
   ]
  },
  {
   "cell_type": "code",
   "execution_count": null,
   "id": "876fd125-59e3-46b2-82c0-2377130ee6a2",
   "metadata": {},
   "outputs": [],
   "source": []
  }
 ],
 "metadata": {
  "kernelspec": {
   "display_name": "Python [conda env:base] *",
   "language": "python",
   "name": "conda-base-py"
  },
  "language_info": {
   "codemirror_mode": {
    "name": "ipython",
    "version": 3
   },
   "file_extension": ".py",
   "mimetype": "text/x-python",
   "name": "python",
   "nbconvert_exporter": "python",
   "pygments_lexer": "ipython3",
   "version": "3.12.7"
  }
 },
 "nbformat": 4,
 "nbformat_minor": 5
}
