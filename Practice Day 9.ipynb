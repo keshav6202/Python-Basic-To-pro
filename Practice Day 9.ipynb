{
 "cells": [
  {
   "cell_type": "markdown",
   "id": "b9c12fce-848d-4dac-8388-afa99cb7c070",
   "metadata": {},
   "source": [
    "# Practice Day 9"
   ]
  },
  {
   "cell_type": "code",
   "execution_count": 46,
   "id": "0442ffe9-feeb-41d8-a6f7-70316c8deab3",
   "metadata": {},
   "outputs": [
    {
     "name": "stdin",
     "output_type": "stream",
     "text": [
      "Enter first number:  1\n",
      "Enter second number:  2\n",
      "Enter third number:  3\n"
     ]
    },
    {
     "name": "stdout",
     "output_type": "stream",
     "text": [
      "Val3 is greater.\n"
     ]
    }
   ],
   "source": [
    "# 1.Write a function to find maximum of three numbers in Python.\n",
    "def max_num(val1,val2,val3):\n",
    "    if val1 > val2 and val1 > val3 :\n",
    "        print(\"Val1 is greater.\")\n",
    "    elif val2 > val3 and val2 > val3:\n",
    "        print(\"Val2 is greater.\")\n",
    "    else:\n",
    "        print(\"Val3 is greater.\")\n",
    "val1 = int(input(\"Enter first number: \"))\n",
    "val2 = int(input(\"Enter second number: \"))\n",
    "val3 = int(input(\"Enter third number: \"))\n",
    "max_num(val1, val2, val3)"
   ]
  },
  {
   "cell_type": "code",
   "execution_count": 58,
   "id": "349ba1f9-2db2-4649-9330-76dc8e7d0d34",
   "metadata": {},
   "outputs": [
    {
     "name": "stdout",
     "output_type": "stream",
     "text": [
      "[1, 4, 9, 16, 25, 36, 49, 64, 81, 100, 121, 144, 169, 196, 225, 256, 289, 324, 361, 400, 441, 484, 529, 576, 625, 676, 729, 784, 841, 900]\n"
     ]
    }
   ],
   "source": [
    "# 2. Write a Python function to create and print a list\n",
    "# where the values are square of numbers between 1 and 30.\n",
    "\n",
    "def create_list():\n",
    "    l = []\n",
    "    for i in range(1,31):\n",
    "        l.append(i**2)\n",
    "    return l\n",
    "\n",
    "print(create_list())"
   ]
  },
  {
   "cell_type": "code",
   "execution_count": 91,
   "id": "885cb263-ac33-47bb-9590-84b90312c5de",
   "metadata": {},
   "outputs": [
    {
     "name": "stdin",
     "output_type": "stream",
     "text": [
      "Enter a number: 2\n"
     ]
    },
    {
     "name": "stdout",
     "output_type": "stream",
     "text": [
      "It is a prime number.\n"
     ]
    }
   ],
   "source": [
    "# 3.Write a Python function that takes a number as a parameter and check if the number is prime or not.\n",
    "\n",
    "def check_prime(num):\n",
    "    if num == 1:\n",
    "        print(\"It is not a prime number.\")\n",
    "    elif num == 2:\n",
    "        print(\"It is a prime number.\")\n",
    "    elif num > 2:\n",
    "        for i in range(2, num):\n",
    "            if num % i == 0:\n",
    "                print(\"It is not a prime number.\")\n",
    "                break\n",
    "    else:\n",
    "        print(\"It is a prime number.\")\n",
    "num=int(input(\"Enter a number:\"))\n",
    "\n",
    "check_prime(num)"
   ]
  },
  {
   "cell_type": "code",
   "execution_count": 105,
   "id": "4578227b-9f99-4b9a-ab76-a8797a081446",
   "metadata": {},
   "outputs": [
    {
     "name": "stdout",
     "output_type": "stream",
     "text": [
      "45\n"
     ]
    }
   ],
   "source": [
    "# 4. Write a Python function to sum all the numbers in a list.\n",
    "\n",
    "def add(numbers):\n",
    "    total = 0\n",
    "    for i in numbers:\n",
    "        total = total + i\n",
    "    return total\n",
    "\n",
    "print(add([1, 2, 3, 4, 5, 6, 7, 8, 9]))"
   ]
  },
  {
   "cell_type": "code",
   "execution_count": 107,
   "id": "e230c9c3-b9d8-4a89-a0b9-66aa5b64d941",
   "metadata": {},
   "outputs": [
    {
     "name": "stdin",
     "output_type": "stream",
     "text": [
      "Enter the number of terms:  12\n"
     ]
    },
    {
     "name": "stdout",
     "output_type": "stream",
     "text": [
      "0 1 1 2 3 5 8 13 21 34 55 89 "
     ]
    }
   ],
   "source": [
    "# 4.Write a Python program to solve the Fibonacci Sequence Recursion.\n",
    "def fibonacci(n):\n",
    "    if n <= 0:\n",
    "        return 0\n",
    "    elif n == 1:\n",
    "        return 1\n",
    "    else:\n",
    "        return fibonacci(n-1) + fibonacci(n-2)\n",
    "\n",
    "\n",
    "n = int(input(\"Enter the number of terms: \"))\n",
    "for i in range(n):\n",
    "    print(fibonacci(i), end=\" \")"
   ]
  },
  {
   "cell_type": "code",
   "execution_count": null,
   "id": "c28dea7e-ea04-4c63-a706-254f06f8f9d0",
   "metadata": {},
   "outputs": [],
   "source": []
  }
 ],
 "metadata": {
  "kernelspec": {
   "display_name": "Python [conda env:base] *",
   "language": "python",
   "name": "conda-base-py"
  },
  "language_info": {
   "codemirror_mode": {
    "name": "ipython",
    "version": 3
   },
   "file_extension": ".py",
   "mimetype": "text/x-python",
   "name": "python",
   "nbconvert_exporter": "python",
   "pygments_lexer": "ipython3",
   "version": "3.12.7"
  }
 },
 "nbformat": 4,
 "nbformat_minor": 5
}
