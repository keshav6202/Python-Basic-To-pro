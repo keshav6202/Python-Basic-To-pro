{
 "cells": [
  {
   "cell_type": "code",
   "execution_count": null,
   "id": "4f5cc404-012e-4ae6-864a-2e06f410882e",
   "metadata": {},
   "outputs": [],
   "source": [
    "# Write a program to get Fibonacci series up to 10 numbers."
   ]
  },
  {
   "cell_type": "code",
   "execution_count": 49,
   "id": "0ad80ea6-c13e-4acc-970f-67f105452811",
   "metadata": {},
   "outputs": [
    {
     "name": "stdin",
     "output_type": "stream",
     "text": [
      "Enter a number: 12\n"
     ]
    },
    {
     "name": "stdout",
     "output_type": "stream",
     "text": [
      "0 1 1 2 3 5 8 13 21 34 55 89 "
     ]
    }
   ],
   "source": [
    "a=0\n",
    "b=1\n",
    "n=int(input(\"Enter a number:\"))\n",
    "\n",
    "print(a,end=\" \")\n",
    "\n",
    "print(b,end=\" \")\n",
    "\n",
    "for i in range(2,n):\n",
    "\n",
    "    c= a+b\n",
    "\n",
    "    a = b\n",
    "    b = c\n",
    "    print(c,end=\" \")\n"
   ]
  },
  {
   "cell_type": "code",
   "execution_count": null,
   "id": "ea98bb96-84ec-4f04-828d-a2569174a44b",
   "metadata": {},
   "outputs": [],
   "source": []
  },
  {
   "cell_type": "code",
   "execution_count": null,
   "id": "a7c15d85-3d4a-410f-a7a8-013e491713ae",
   "metadata": {},
   "outputs": [],
   "source": [
    "# Write a program to check if a number is prime or not."
   ]
  },
  {
   "cell_type": "code",
   "execution_count": 63,
   "id": "fb4ef58d-b7af-4c24-a591-f69cc8ce0840",
   "metadata": {},
   "outputs": [
    {
     "name": "stdin",
     "output_type": "stream",
     "text": [
      "Enter a number:  3\n"
     ]
    },
    {
     "name": "stdout",
     "output_type": "stream",
     "text": [
      "3 is a prime number.\n"
     ]
    }
   ],
   "source": [
    "n = int(input(\"Enter a number: \"))\n",
    "\n",
    "if n > 1:\n",
    "    for i in range(2, n):\n",
    "        if n % i == 0:\n",
    "            print(n, \"is not a prime number.\")\n",
    "            break\n",
    "    else:\n",
    "        print(n, \"is a prime number.\")\n",
    "else:\n",
    "    print(n, \"is not a prime number.\")\n"
   ]
  },
  {
   "cell_type": "code",
   "execution_count": null,
   "id": "100a05ed-d7b1-4406-ac50-a08646c631a6",
   "metadata": {},
   "outputs": [],
   "source": []
  },
  {
   "cell_type": "code",
   "execution_count": null,
   "id": "22768b7d-27d8-4e11-94d1-02ae1478a402",
   "metadata": {},
   "outputs": [],
   "source": [
    "# Write a program to find a palindrome of integers."
   ]
  },
  {
   "cell_type": "code",
   "execution_count": 95,
   "id": "12c091ff-f267-4db1-8bf6-e784c5d38464",
   "metadata": {},
   "outputs": [
    {
     "name": "stdin",
     "output_type": "stream",
     "text": [
      "Enter a number : 949\n"
     ]
    },
    {
     "name": "stdout",
     "output_type": "stream",
     "text": [
      "949 is palindrome number.\n"
     ]
    }
   ],
   "source": [
    "n=int(input(\"Enter a number :\"))\n",
    "temp=n\n",
    "rev=0\n",
    "while (n>0):\n",
    "    dig= n%10\n",
    "    rev=rev * 10 + dig\n",
    "    n=n // 10\n",
    "\n",
    "if rev==temp :\n",
    "    print(temp,\"is palindrome number.\")\n",
    "else:\n",
    "    print(temp,\"is not a palindrome number.\")\n",
    "        "
   ]
  },
  {
   "cell_type": "code",
   "execution_count": null,
   "id": "54b85987-b14b-48da-8d0b-d6a06a9ffe27",
   "metadata": {},
   "outputs": [],
   "source": []
  },
  {
   "cell_type": "code",
   "execution_count": 1,
   "id": "e497af53-08bc-42e3-a151-e104e1415f6e",
   "metadata": {},
   "outputs": [],
   "source": [
    "# Write a program to create an area calculator."
   ]
  },
  {
   "cell_type": "code",
   "execution_count": null,
   "id": "7ce4fbdc-adaa-4619-9157-45961aec278e",
   "metadata": {},
   "outputs": [],
   "source": []
  },
  {
   "cell_type": "code",
   "execution_count": null,
   "id": "4e7bc5f0-520c-4fd7-869f-9707f21d2bc3",
   "metadata": {},
   "outputs": [],
   "source": []
  },
  {
   "cell_type": "code",
   "execution_count": 99,
   "id": "40e24a37-5a46-4069-860f-2ff406162fd1",
   "metadata": {},
   "outputs": [],
   "source": [
    "# A = \"OOTD.YOLO.ASAP.BRB.GTG.OTW\""
   ]
  },
  {
   "cell_type": "code",
   "execution_count": 101,
   "id": "eef409e7-8b8e-42d2-8f36-25f904ba8000",
   "metadata": {},
   "outputs": [],
   "source": [
    "# Write a program to separate the following string into comma (,) separated values."
   ]
  },
  {
   "cell_type": "code",
   "execution_count": 128,
   "id": "5e648912-6e68-48d2-b207-8e0273a43207",
   "metadata": {},
   "outputs": [
    {
     "name": "stdout",
     "output_type": "stream",
     "text": [
      "['OOTD', 'YOLO', 'ASAP', 'BRB', 'GTG', 'OTW']\n"
     ]
    }
   ],
   "source": [
    "a = \"OOTD.YOLO.ASAP.BRB.GTG.OTW\"\n",
    "b = a.split(\".\")\n",
    "print (b)"
   ]
  },
  {
   "cell_type": "code",
   "execution_count": null,
   "id": "7e1d189e-9472-48f9-9417-1af083c59f74",
   "metadata": {},
   "outputs": [],
   "source": [
    "# Write a program to sort strings alphabetically in Python."
   ]
  },
  {
   "cell_type": "code",
   "execution_count": 142,
   "id": "a3dfda16-8686-4ed3-b5cc-08fb37742e15",
   "metadata": {},
   "outputs": [
    {
     "name": "stdin",
     "output_type": "stream",
     "text": [
      "Enter anything here : hello\n"
     ]
    },
    {
     "name": "stdout",
     "output_type": "stream",
     "text": [
      "['e', 'h', 'l', 'l', 'o']\n"
     ]
    }
   ],
   "source": [
    "a = input(\"Enter anything here :\")\n",
    "b=sorted(a)\n",
    "print(b)"
   ]
  },
  {
   "cell_type": "code",
   "execution_count": null,
   "id": "267e7e62-8cb9-4521-acbf-31e62bd175fb",
   "metadata": {},
   "outputs": [],
   "source": [
    "# Write a program to remove a given character from a string."
   ]
  },
  {
   "cell_type": "code",
   "execution_count": 144,
   "id": "5f0c39f9-0039-4034-93d4-5563712c0de4",
   "metadata": {},
   "outputs": [
    {
     "name": "stdout",
     "output_type": "stream",
     "text": [
      "hllo\n"
     ]
    }
   ],
   "source": [
    "a=\"hello\"\n",
    "\n",
    "b=a.replace(\"e\",\"\")\n",
    "\n",
    "print(b)"
   ]
  },
  {
   "cell_type": "code",
   "execution_count": null,
   "id": "aee9eee2-433e-4621-a0d5-38e0bb641d57",
   "metadata": {},
   "outputs": [],
   "source": [
    "\n",
    "# Z = \"F.R.I.E.N.D.S.\"\n",
    "\n"
   ]
  },
  {
   "cell_type": "code",
   "execution_count": 146,
   "id": "f50148a3-e3c6-47c4-a0c0-3048e01471b6",
   "metadata": {},
   "outputs": [],
   "source": [
    "# Write a program to remove dot (.) from the following string."
   ]
  },
  {
   "cell_type": "code",
   "execution_count": 150,
   "id": "cc7c1933-9461-47dd-a58f-c1a8976fd332",
   "metadata": {},
   "outputs": [
    {
     "name": "stdout",
     "output_type": "stream",
     "text": [
      "FRIENDS\n"
     ]
    }
   ],
   "source": [
    "Z = \"F.R.I.E.N.D.S.\"\n",
    "b=Z.replace(\".\",\"\")\n",
    "print(b)"
   ]
  },
  {
   "cell_type": "code",
   "execution_count": 152,
   "id": "bc1ee67f-1cf4-455d-9ad9-0c7097e12701",
   "metadata": {},
   "outputs": [],
   "source": [
    "# Write a program to check the number of occurrence of a character."
   ]
  },
  {
   "cell_type": "code",
   "execution_count": 158,
   "id": "f880a106-9d7b-451e-9e87-5682dd082448",
   "metadata": {},
   "outputs": [
    {
     "name": "stdout",
     "output_type": "stream",
     "text": [
      "The number of times occuring is : 2\n"
     ]
    }
   ],
   "source": [
    "a=\"she sells sease=hells on the sea shore\"\n",
    "b=a.count(\"sea\")\n",
    "print(\"The number of times occuring is :\",b)"
   ]
  },
  {
   "cell_type": "code",
   "execution_count": null,
   "id": "94ffc2df-add9-4165-8a14-15c35964af11",
   "metadata": {},
   "outputs": [],
   "source": []
  },
  {
   "cell_type": "code",
   "execution_count": null,
   "id": "1dcba849-dbc6-4a9e-b01b-4213c65fcfac",
   "metadata": {},
   "outputs": [],
   "source": []
  },
  {
   "cell_type": "code",
   "execution_count": 162,
   "id": "afe67b43-619a-4346-99bd-a633128f3b82",
   "metadata": {},
   "outputs": [],
   "source": [
    "# Take an input from a user as a string then, reverse it."
   ]
  },
  {
   "cell_type": "code",
   "execution_count": 176,
   "id": "26399ded-3ec5-4dcd-b303-ecab4b587c4b",
   "metadata": {},
   "outputs": [
    {
     "name": "stdin",
     "output_type": "stream",
     "text": [
      "Enter a string: hello\n"
     ]
    },
    {
     "name": "stdout",
     "output_type": "stream",
     "text": [
      "hello\n",
      "After reversed: \n",
      "olleh\n"
     ]
    }
   ],
   "source": [
    "n=input(\"Enter a string:\")\n",
    "print(n)\n",
    "print(\"After reversed: \")\n",
    "print(n[::-1])"
   ]
  },
  {
   "cell_type": "code",
   "execution_count": null,
   "id": "dabab8fb-37df-43f2-b6c3-ed28a972bb03",
   "metadata": {},
   "outputs": [],
   "source": []
  },
  {
   "cell_type": "code",
   "execution_count": 178,
   "id": "277030a9-df67-4522-af9a-52cf157eed15",
   "metadata": {},
   "outputs": [],
   "source": [
    "# Write a program to check if a string contains only digits."
   ]
  },
  {
   "cell_type": "code",
   "execution_count": 186,
   "id": "540d5f9a-4b3d-4e92-9105-19aa30eaf940",
   "metadata": {},
   "outputs": [
    {
     "name": "stdin",
     "output_type": "stream",
     "text": [
      "Enter anything here: 2345\n"
     ]
    },
    {
     "name": "stdout",
     "output_type": "stream",
     "text": [
      "It contain only digits.\n"
     ]
    }
   ],
   "source": [
    "n=input(\"Enter anything here:\")\n",
    "b=(n.isdigit())\n",
    "\n",
    "if b == True:\n",
    "    print(\"It contain only digits.\")\n",
    "else:\n",
    "    print(\"It doesn't contain only digit.\")"
   ]
  },
  {
   "cell_type": "code",
   "execution_count": 188,
   "id": "f556f746-032f-45ee-b1da-90254f52fb59",
   "metadata": {},
   "outputs": [],
   "source": [
    "# Write a program to check if a string is palindrome."
   ]
  },
  {
   "cell_type": "code",
   "execution_count": 194,
   "id": "7a3bf4f5-4628-44b1-b8b5-a773b66b597b",
   "metadata": {},
   "outputs": [
    {
     "name": "stdin",
     "output_type": "stream",
     "text": [
      "Enter anything here: keshav\n"
     ]
    },
    {
     "name": "stdout",
     "output_type": "stream",
     "text": [
      "keshav is not a palindrome.\n"
     ]
    }
   ],
   "source": [
    "n=input(\"Enter anything here:\")\n",
    "rev= n[::-1]\n",
    "\n",
    "if n == rev :\n",
    "    print(n,\"is palindrome.\")\n",
    "else:\n",
    "    print(n,\"is not a palindrome.\")"
   ]
  },
  {
   "cell_type": "code",
   "execution_count": null,
   "id": "f05ee839-7e21-4b6c-b169-84e163b44f34",
   "metadata": {},
   "outputs": [],
   "source": []
  },
  {
   "cell_type": "code",
   "execution_count": 197,
   "id": "7444143d-cce9-496e-86f9-baedbad00c33",
   "metadata": {},
   "outputs": [],
   "source": [
    "# Write a program to find number of vowels in a string."
   ]
  },
  {
   "cell_type": "code",
   "execution_count": 222,
   "id": "981e6718-90d9-40ae-9ae1-27c440924faf",
   "metadata": {},
   "outputs": [
    {
     "name": "stdin",
     "output_type": "stream",
     "text": [
      "Enter anything here:  HELLO\n"
     ]
    },
    {
     "name": "stdout",
     "output_type": "stream",
     "text": [
      "The number of vowels are: 2\n"
     ]
    }
   ],
   "source": [
    "a = input(\"Enter anything here: \")\n",
    "vowels = 0\n",
    "\n",
    "for i in a:\n",
    "    if i in \"aeiouAEIOU\":\n",
    "        vowels += 1\n",
    "\n",
    "print(\"The number of vowels are:\", vowels)"
   ]
  },
  {
   "cell_type": "code",
   "execution_count": null,
   "id": "bdef5515-8881-46bf-860f-eb959d9dbd99",
   "metadata": {},
   "outputs": [],
   "source": []
  },
  {
   "cell_type": "code",
   "execution_count": 224,
   "id": "3fb1b914-d99d-4436-86ee-d97df1a3baf3",
   "metadata": {},
   "outputs": [],
   "source": [
    "# Write a program to check if every word in a string begins with a capital letter."
   ]
  },
  {
   "cell_type": "code",
   "execution_count": 236,
   "id": "e4f4b64f-20e4-450b-8d26-bfe6f6c1eb0d",
   "metadata": {},
   "outputs": [
    {
     "name": "stdin",
     "output_type": "stream",
     "text": [
      "Enter anything here:  Harry potter\n"
     ]
    },
    {
     "name": "stdout",
     "output_type": "stream",
     "text": [
      "False\n"
     ]
    }
   ],
   "source": [
    "a = input(\"Enter anything here: \")\n",
    "b=(a.istitle())\n",
    "print(b)"
   ]
  },
  {
   "cell_type": "code",
   "execution_count": null,
   "id": "04f9518c-ba13-497f-ba61-2fc0eb860742",
   "metadata": {},
   "outputs": [],
   "source": []
  }
 ],
 "metadata": {
  "kernelspec": {
   "display_name": "Python [conda env:base] *",
   "language": "python",
   "name": "conda-base-py"
  },
  "language_info": {
   "codemirror_mode": {
    "name": "ipython",
    "version": 3
   },
   "file_extension": ".py",
   "mimetype": "text/x-python",
   "name": "python",
   "nbconvert_exporter": "python",
   "pygments_lexer": "ipython3",
   "version": "3.12.7"
  }
 },
 "nbformat": 4,
 "nbformat_minor": 5
}
