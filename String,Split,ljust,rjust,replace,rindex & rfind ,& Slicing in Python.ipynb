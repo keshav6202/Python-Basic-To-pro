{
 "cells": [
  {
   "cell_type": "markdown",
   "id": "5380033c-fec4-4391-8c5d-940ef327d0ee",
   "metadata": {},
   "source": [
    "# String Functions Part 2"
   ]
  },
  {
   "cell_type": "code",
   "execution_count": 4,
   "id": "bd62deb3-a094-4f7a-a76a-7c19db1a78f0",
   "metadata": {},
   "outputs": [],
   "source": [
    "#isalnum - Returns True if all characters in the string are alphanumeric  \n",
    "#isalpha - Returns True if all characters in the string are in the alphabet  \n",
    "#isdecimal - Returns True if all characters in the string are decimals  \n",
    "#isdigit - Returns True if all characters in the string are digits  \n",
    "#isnumeric - Returns True if all characters in the string are numeric  \n",
    "#islower - Converts a string into lower case  \n",
    "#isupper - Returns True if all characters in the string are upper case  \n",
    "#isspace - Returns True if all characters in the string are whitespaces  \n",
    "#istitle - Returns True if the string follows the rules of a title  "
   ]
  },
  {
   "cell_type": "code",
   "execution_count": 6,
   "id": "4a8a0a65-4ece-4303-9d99-d532183ebbc6",
   "metadata": {},
   "outputs": [],
   "source": [
    "a=\"hello\"\n",
    "b=\"HEllo123\"\n",
    "c=\"1234\"\n",
    "d=\"HELLO\"\n",
    "e=\" \"\n",
    "f=\"Hello 123@\"\n",
    "g=\"1.234\""
   ]
  },
  {
   "cell_type": "code",
   "execution_count": 16,
   "id": "5fb36920-39f7-41bb-8332-ff4eca5e6148",
   "metadata": {},
   "outputs": [
    {
     "name": "stdout",
     "output_type": "stream",
     "text": [
      "hello True\n"
     ]
    }
   ],
   "source": [
    "print(a,a.isalpha())"
   ]
  },
  {
   "cell_type": "code",
   "execution_count": 14,
   "id": "9718fcbb-2780-4de1-acec-486b4f50d4b5",
   "metadata": {},
   "outputs": [
    {
     "name": "stdout",
     "output_type": "stream",
     "text": [
      "HEllo123 True\n"
     ]
    }
   ],
   "source": [
    "print(b,b.isalnum())"
   ]
  },
  {
   "cell_type": "code",
   "execution_count": 18,
   "id": "caff11a6-ab7e-4014-b97a-994d0f9a2328",
   "metadata": {},
   "outputs": [
    {
     "name": "stdout",
     "output_type": "stream",
     "text": [
      "1234 True\n"
     ]
    }
   ],
   "source": [
    "print(c,c.isdigit())"
   ]
  },
  {
   "cell_type": "code",
   "execution_count": 20,
   "id": "6bd37f42-cd0b-428b-ad20-afdc1950f913",
   "metadata": {},
   "outputs": [
    {
     "name": "stdout",
     "output_type": "stream",
     "text": [
      "HELLO True\n"
     ]
    }
   ],
   "source": [
    "print(d,d.isupper())"
   ]
  },
  {
   "cell_type": "code",
   "execution_count": 22,
   "id": "7c04d4d9-4dd6-40e4-a641-5b176609a753",
   "metadata": {},
   "outputs": [
    {
     "name": "stdout",
     "output_type": "stream",
     "text": [
      "  True\n"
     ]
    }
   ],
   "source": [
    "print(e,e.isspace())"
   ]
  },
  {
   "cell_type": "code",
   "execution_count": 24,
   "id": "922a94be-1243-4159-90bd-9bd6c500a6ab",
   "metadata": {},
   "outputs": [
    {
     "name": "stdout",
     "output_type": "stream",
     "text": [
      "Hello 123@ True\n"
     ]
    }
   ],
   "source": [
    "print(f,f.istitle())"
   ]
  },
  {
   "cell_type": "code",
   "execution_count": 26,
   "id": "d2175068-0cb5-4bc1-bfab-91f929e9afc8",
   "metadata": {},
   "outputs": [
    {
     "name": "stdout",
     "output_type": "stream",
     "text": [
      "1.234 False\n"
     ]
    }
   ],
   "source": [
    "print(g,g.isdecimal())"
   ]
  },
  {
   "cell_type": "code",
   "execution_count": 28,
   "id": "563b4561-8404-48fe-8686-082dfb8f0486",
   "metadata": {},
   "outputs": [
    {
     "name": "stdout",
     "output_type": "stream",
     "text": [
      "hello True\n"
     ]
    }
   ],
   "source": [
    "print(a,a.islower())"
   ]
  },
  {
   "cell_type": "code",
   "execution_count": 30,
   "id": "7220ff2c-f0fb-4881-9f7d-b4207d66b48c",
   "metadata": {},
   "outputs": [
    {
     "name": "stdout",
     "output_type": "stream",
     "text": [
      "hello HELLO\n"
     ]
    }
   ],
   "source": [
    "print(a,a.swapcase())"
   ]
  },
  {
   "cell_type": "code",
   "execution_count": 38,
   "id": "4de4caa1-cf85-427f-be79-5ded5b9b78e1",
   "metadata": {},
   "outputs": [
    {
     "name": "stdout",
     "output_type": "stream",
     "text": [
      " *****Harry Potter    ..... \n"
     ]
    }
   ],
   "source": [
    "a= \" *****Harry Potter    ..... \"\n",
    "print(a)"
   ]
  },
  {
   "cell_type": "code",
   "execution_count": 50,
   "id": "d69af3dd-6943-4e8d-87f3-a4f52681c431",
   "metadata": {},
   "outputs": [
    {
     "name": "stdout",
     "output_type": "stream",
     "text": [
      "Harry Potter\n"
     ]
    }
   ],
   "source": [
    "print(a.strip(\" . , * , \"))"
   ]
  },
  {
   "cell_type": "code",
   "execution_count": null,
   "id": "349ef550-b403-430c-b220-935e34743702",
   "metadata": {},
   "outputs": [],
   "source": []
  },
  {
   "cell_type": "markdown",
   "id": "8d0baf24-7115-4f22-b014-c685cad178b7",
   "metadata": {},
   "source": [
    "# Split method"
   ]
  },
  {
   "cell_type": "code",
   "execution_count": 55,
   "id": "495e990a-0544-4d19-95bc-63d8f6853fcd",
   "metadata": {},
   "outputs": [],
   "source": [
    "# Split the string at the specified separator and returns a list"
   ]
  },
  {
   "cell_type": "code",
   "execution_count": 57,
   "id": "ac14d9da-ba04-4509-922e-b869db8e59d6",
   "metadata": {},
   "outputs": [],
   "source": [
    "a =\"#OOFD#BRB#OMW#TB\""
   ]
  },
  {
   "cell_type": "code",
   "execution_count": 63,
   "id": "de299d6e-5436-40bb-ba0d-39d76545e4c9",
   "metadata": {},
   "outputs": [
    {
     "name": "stdout",
     "output_type": "stream",
     "text": [
      "['', 'OOFD', 'BRB', 'OMW', 'TB']\n"
     ]
    }
   ],
   "source": [
    "print(a.split(\"#\"))"
   ]
  },
  {
   "cell_type": "code",
   "execution_count": null,
   "id": "f9424055-d80e-4ae9-bc9c-3769d51e6dff",
   "metadata": {},
   "outputs": [],
   "source": []
  },
  {
   "cell_type": "markdown",
   "id": "f76da4d7-92e9-4a9a-8e6f-f91a9653a2b4",
   "metadata": {},
   "source": [
    "# ljust & rjust"
   ]
  },
  {
   "cell_type": "code",
   "execution_count": 81,
   "id": "6b379f8c-cf63-4fc6-b1b1-67777adc04c9",
   "metadata": {},
   "outputs": [],
   "source": [
    "# Returns a left justified version of the string similary rjust"
   ]
  },
  {
   "cell_type": "code",
   "execution_count": 83,
   "id": "70534f76-2bc8-4ca4-8cae-c1017aa77f64",
   "metadata": {},
   "outputs": [],
   "source": [
    "a = \" Harry Potter \""
   ]
  },
  {
   "cell_type": "code",
   "execution_count": 85,
   "id": "25813216-922f-4d30-8d44-17a81d21ae30",
   "metadata": {},
   "outputs": [
    {
     "ename": "TypeError",
     "evalue": "ljust expected at least 1 argument, got 0",
     "output_type": "error",
     "traceback": [
      "\u001b[1;31m---------------------------------------------------------------------------\u001b[0m",
      "\u001b[1;31mTypeError\u001b[0m                                 Traceback (most recent call last)",
      "Cell \u001b[1;32mIn[85], line 1\u001b[0m\n\u001b[1;32m----> 1\u001b[0m x\u001b[38;5;241m=\u001b[39m a\u001b[38;5;241m.\u001b[39mljust()\n",
      "\u001b[1;31mTypeError\u001b[0m: ljust expected at least 1 argument, got 0"
     ]
    }
   ],
   "source": [
    "x= a.ljust()"
   ]
  },
  {
   "cell_type": "code",
   "execution_count": null,
   "id": "8beff79b-2729-42b0-9ca4-937ecaf4e46a",
   "metadata": {},
   "outputs": [],
   "source": [
    "x= a.ljust(20,\"*\")"
   ]
  },
  {
   "cell_type": "code",
   "execution_count": 88,
   "id": "4be55bde-e1e8-40c5-8520-a21879d0b286",
   "metadata": {},
   "outputs": [
    {
     "name": "stdout",
     "output_type": "stream",
     "text": [
      " Harry Potter ****** is my favourite movie\n"
     ]
    }
   ],
   "source": [
    "print(x,\"is my favourite movie\")"
   ]
  },
  {
   "cell_type": "code",
   "execution_count": null,
   "id": "957680b6-d6df-4377-8263-287e7e95ace8",
   "metadata": {},
   "outputs": [],
   "source": []
  },
  {
   "cell_type": "code",
   "execution_count": 91,
   "id": "24bc91d1-973a-4bf8-a7c1-c2c02c2490e6",
   "metadata": {},
   "outputs": [],
   "source": [
    "a = \" Harry Potter \""
   ]
  },
  {
   "cell_type": "code",
   "execution_count": 97,
   "id": "dd557e53-4ec1-4fe3-a2cd-04077f200f2f",
   "metadata": {},
   "outputs": [],
   "source": [
    "x=a.rjust(20,\"@\")"
   ]
  },
  {
   "cell_type": "code",
   "execution_count": 99,
   "id": "9625facf-1139-49d0-b267-5bb5df390241",
   "metadata": {},
   "outputs": [
    {
     "name": "stdout",
     "output_type": "stream",
     "text": [
      "@@@@@@ Harry Potter  is my favourite movie\n"
     ]
    }
   ],
   "source": [
    "print(x,\"is my favourite movie\")"
   ]
  },
  {
   "cell_type": "code",
   "execution_count": null,
   "id": "c8e480ab-56ff-4ebf-bb7c-f2d1d0bd3b34",
   "metadata": {},
   "outputs": [],
   "source": []
  },
  {
   "cell_type": "markdown",
   "id": "2afc6c5c-fbbd-414d-aeab-d0285e0988d3",
   "metadata": {},
   "source": [
    "# Replace"
   ]
  },
  {
   "cell_type": "code",
   "execution_count": 103,
   "id": "e9337244-b0fc-43b7-a5bb-0079d94e2d01",
   "metadata": {},
   "outputs": [],
   "source": [
    "# replace() - returns a string where a specified value is replaced with a  Specified value"
   ]
  },
  {
   "cell_type": "code",
   "execution_count": 111,
   "id": "407f5842-910c-48a8-b2bf-733c335917e0",
   "metadata": {},
   "outputs": [
    {
     "name": "stdout",
     "output_type": "stream",
     "text": [
      " My name is john \n"
     ]
    }
   ],
   "source": [
    "a =\" My name is john \"\n",
    "print(a)"
   ]
  },
  {
   "cell_type": "code",
   "execution_count": 115,
   "id": "c49bd007-0141-4174-b2b5-16decaa6afc5",
   "metadata": {},
   "outputs": [
    {
     "name": "stdout",
     "output_type": "stream",
     "text": [
      " My name is Lisa \n"
     ]
    }
   ],
   "source": [
    "print(a.replace(\"john\", \"Lisa\"))"
   ]
  },
  {
   "cell_type": "code",
   "execution_count": null,
   "id": "5a375784-799b-47cf-9787-8d2f845008be",
   "metadata": {},
   "outputs": [],
   "source": []
  },
  {
   "cell_type": "markdown",
   "id": "48fe140d-fb88-4382-b39e-09e8a4a7fc6f",
   "metadata": {},
   "source": [
    "# rindex"
   ]
  },
  {
   "cell_type": "code",
   "execution_count": 121,
   "id": "294fa29d-6a03-4395-8afe-aa86513b5aa3",
   "metadata": {},
   "outputs": [],
   "source": [
    "#rindex() -Searches the string fora specified value and returns the last position of where it was found"
   ]
  },
  {
   "cell_type": "code",
   "execution_count": 131,
   "id": "79a47aae-1118-4a86-9597-92944ad8ff5c",
   "metadata": {},
   "outputs": [],
   "source": [
    "a = \"Harry Potter and the Goblet of Fire\""
   ]
  },
  {
   "cell_type": "code",
   "execution_count": 133,
   "id": "d4f59102-9a76-4281-bef6-6ae84c2fdf7f",
   "metadata": {},
   "outputs": [
    {
     "name": "stdout",
     "output_type": "stream",
     "text": [
      "13\n"
     ]
    }
   ],
   "source": [
    "print(a.rindex(\"a\",6,20))"
   ]
  },
  {
   "cell_type": "code",
   "execution_count": 135,
   "id": "fe2aac1a-54eb-49e5-bf2f-ffab0d7255bc",
   "metadata": {},
   "outputs": [],
   "source": [
    "# Similarly as rfind"
   ]
  },
  {
   "cell_type": "code",
   "execution_count": 137,
   "id": "3f7e0c1c-dc01-413a-9b88-fd7a78c38bc3",
   "metadata": {},
   "outputs": [
    {
     "name": "stdout",
     "output_type": "stream",
     "text": [
      "0\n"
     ]
    }
   ],
   "source": [
    "print(a.rfind(\"Harry\"))"
   ]
  },
  {
   "cell_type": "code",
   "execution_count": 138,
   "id": "fb92fe2e-4848-4b25-88ab-d5ee9162a3b9",
   "metadata": {},
   "outputs": [
    {
     "name": "stdout",
     "output_type": "stream",
     "text": [
      "6\n"
     ]
    }
   ],
   "source": [
    "print(a.rfind(\"Potter\"))"
   ]
  },
  {
   "cell_type": "code",
   "execution_count": 140,
   "id": "a8a42c5a-c07a-4da1-9281-17bee382ae1b",
   "metadata": {},
   "outputs": [
    {
     "name": "stdout",
     "output_type": "stream",
     "text": [
      "21\n"
     ]
    }
   ],
   "source": [
    "print(a.rfind(\"Goblet\"))"
   ]
  },
  {
   "cell_type": "code",
   "execution_count": null,
   "id": "8c24b8f0-7b38-423d-ad30-afa4b41a0f0f",
   "metadata": {},
   "outputs": [],
   "source": []
  },
  {
   "cell_type": "markdown",
   "id": "1060ecd9-e3ff-4083-9de4-025a6d466a7e",
   "metadata": {},
   "source": [
    "# Slicing in Strings"
   ]
  },
  {
   "cell_type": "code",
   "execution_count": 165,
   "id": "708e78f4-9690-4364-b220-3821f998c659",
   "metadata": {},
   "outputs": [],
   "source": [
    " a = \"Harry Potter and the Goblet of Fire\"\n",
    "b=\"0123456789\""
   ]
  },
  {
   "cell_type": "code",
   "execution_count": 167,
   "id": "a508fa78-adc9-4e00-9e27-09660c6162ee",
   "metadata": {},
   "outputs": [
    {
     "name": "stdout",
     "output_type": "stream",
     "text": [
      "Harry Potter and the Goblet of Fire\n",
      "0123456789\n"
     ]
    }
   ],
   "source": [
    "print(a)\n",
    "print(b)"
   ]
  },
  {
   "cell_type": "code",
   "execution_count": 175,
   "id": "90c8d48a-fbdb-4674-b0ff-d203e5993c57",
   "metadata": {},
   "outputs": [
    {
     "name": "stdout",
     "output_type": "stream",
     "text": [
      "Harry\n",
      "02468\n"
     ]
    }
   ],
   "source": [
    "print(a[0:5])\n",
    "print(b[::2])"
   ]
  },
  {
   "cell_type": "code",
   "execution_count": 171,
   "id": "7ac2358c-bc9a-4543-917f-9725a73aee8c",
   "metadata": {},
   "outputs": [
    {
     "name": "stdout",
     "output_type": "stream",
     "text": [
      "Potter\n",
      "0246\n"
     ]
    }
   ],
   "source": [
    "print(a[6:12])\n",
    "print(b[:7:2])"
   ]
  },
  {
   "cell_type": "code",
   "execution_count": 183,
   "id": "26f99a47-177d-44b9-aa53-6b46718f776d",
   "metadata": {},
   "outputs": [
    {
     "name": "stdout",
     "output_type": "stream",
     "text": [
      "Harry\n",
      "0369\n"
     ]
    }
   ],
   "source": [
    "print(a[:5])\n",
    "print(b[::3])"
   ]
  },
  {
   "cell_type": "code",
   "execution_count": 179,
   "id": "2f0a9690-8f02-44c3-897e-2de0e970a90d",
   "metadata": {},
   "outputs": [
    {
     "name": "stdout",
     "output_type": "stream",
     "text": [
      "Fire\n",
      "9876543210\n"
     ]
    }
   ],
   "source": [
    "print(a[-4:])\n",
    "print(b[::-1])"
   ]
  },
  {
   "cell_type": "code",
   "execution_count": 177,
   "id": "1f748604-b4e0-4132-8274-6be3a2894e80",
   "metadata": {},
   "outputs": [],
   "source": [
    "# Syntax  print(a[start:end:gap])"
   ]
  },
  {
   "cell_type": "code",
   "execution_count": null,
   "id": "dfafbe49-25d6-416c-937d-f8f8524faedd",
   "metadata": {},
   "outputs": [],
   "source": []
  }
 ],
 "metadata": {
  "kernelspec": {
   "display_name": "Python [conda env:base] *",
   "language": "python",
   "name": "conda-base-py"
  },
  "language_info": {
   "codemirror_mode": {
    "name": "ipython",
    "version": 3
   },
   "file_extension": ".py",
   "mimetype": "text/x-python",
   "name": "python",
   "nbconvert_exporter": "python",
   "pygments_lexer": "ipython3",
   "version": "3.12.7"
  }
 },
 "nbformat": 4,
 "nbformat_minor": 5
}
