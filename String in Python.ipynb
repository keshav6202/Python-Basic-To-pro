{
 "cells": [
  {
   "cell_type": "markdown",
   "id": "0b87f079-2ed3-4448-a704-0889741d975a",
   "metadata": {},
   "source": [
    "# String in Python"
   ]
  },
  {
   "cell_type": "code",
   "execution_count": 2,
   "id": "a65523a0-cb06-4558-81ac-4cc8dfaccf8c",
   "metadata": {},
   "outputs": [],
   "source": [
    "# String are the combination of number,symbols and letter enclosed inside quotation."
   ]
  },
  {
   "cell_type": "code",
   "execution_count": 4,
   "id": "69900bc2-da12-4346-a14e-f6000034de5e",
   "metadata": {},
   "outputs": [],
   "source": [
    "a=\"Hello World\""
   ]
  },
  {
   "cell_type": "code",
   "execution_count": 6,
   "id": "b60a137b-baea-4c76-924a-03a60bbb1179",
   "metadata": {},
   "outputs": [
    {
     "name": "stdout",
     "output_type": "stream",
     "text": [
      "Hello World\n"
     ]
    }
   ],
   "source": [
    "print (a)"
   ]
  },
  {
   "cell_type": "code",
   "execution_count": 8,
   "id": "cec3eb5a-6133-4765-8f01-b0f223cf6bd7",
   "metadata": {},
   "outputs": [
    {
     "data": {
      "text/plain": [
       "str"
      ]
     },
     "execution_count": 8,
     "metadata": {},
     "output_type": "execute_result"
    }
   ],
   "source": [
    "type(a)"
   ]
  },
  {
   "cell_type": "code",
   "execution_count": 10,
   "id": "2963b46f-865f-4a5f-a140-9a5323d30e40",
   "metadata": {},
   "outputs": [
    {
     "name": "stdout",
     "output_type": "stream",
     "text": [
      "11\n"
     ]
    }
   ],
   "source": [
    " print(len(a))"
   ]
  },
  {
   "cell_type": "code",
   "execution_count": 14,
   "id": "b07fc745-8054-47b4-b7b8-d362dc950862",
   "metadata": {},
   "outputs": [
    {
     "name": "stdout",
     "output_type": "stream",
     "text": [
      "2\n"
     ]
    }
   ],
   "source": [
    "print(a.count(\"o\"))"
   ]
  },
  {
   "cell_type": "code",
   "execution_count": 20,
   "id": "0d151c62-d4cb-475d-aab8-873692facef3",
   "metadata": {},
   "outputs": [
    {
     "name": "stdout",
     "output_type": "stream",
     "text": [
      "HELLO WORLD\n"
     ]
    }
   ],
   "source": [
    "print (a.upper())"
   ]
  },
  {
   "cell_type": "code",
   "execution_count": 22,
   "id": "9ef70eab-b3ec-4903-8281-41a1ced4fb2c",
   "metadata": {},
   "outputs": [
    {
     "name": "stdout",
     "output_type": "stream",
     "text": [
      "hello world\n"
     ]
    }
   ],
   "source": [
    "print (a.lower())"
   ]
  },
  {
   "cell_type": "code",
   "execution_count": 26,
   "id": "a736e2e1-dcc4-4c5b-a912-4ddf30f2e8a7",
   "metadata": {},
   "outputs": [
    {
     "name": "stdout",
     "output_type": "stream",
     "text": [
      "4\n"
     ]
    }
   ],
   "source": [
    "print (a.index(\"o\"))"
   ]
  },
  {
   "cell_type": "code",
   "execution_count": 28,
   "id": "ab14e410-0f40-453c-9cb7-8d144974ce82",
   "metadata": {},
   "outputs": [
    {
     "name": "stdout",
     "output_type": "stream",
     "text": [
      "Hello world\n"
     ]
    }
   ],
   "source": [
    "print (a.capitalize())"
   ]
  },
  {
   "cell_type": "code",
   "execution_count": 30,
   "id": "98ea91d1-0609-4403-b072-025e23c47de4",
   "metadata": {},
   "outputs": [
    {
     "name": "stdout",
     "output_type": "stream",
     "text": [
      "hello world\n"
     ]
    }
   ],
   "source": [
    "print (a.casefold())"
   ]
  },
  {
   "cell_type": "code",
   "execution_count": 34,
   "id": "11c2a356-e02b-4f03-b7b3-094e6867ef80",
   "metadata": {},
   "outputs": [
    {
     "name": "stdout",
     "output_type": "stream",
     "text": [
      "4\n"
     ]
    }
   ],
   "source": [
    "print (a.find(\"o\"))"
   ]
  },
  {
   "cell_type": "code",
   "execution_count": 36,
   "id": "ebe451d9-c0c1-4f63-a06d-500d0ba669f4",
   "metadata": {},
   "outputs": [
    {
     "name": "stdout",
     "output_type": "stream",
     "text": [
      "Hello World\n"
     ]
    }
   ],
   "source": [
    "print (a.format())"
   ]
  },
  {
   "cell_type": "code",
   "execution_count": 1,
   "id": "737cc33f-e676-48d5-adf5-c25ee61f8fe1",
   "metadata": {},
   "outputs": [
    {
     "name": "stdout",
     "output_type": "stream",
     "text": [
      "My name is John\n"
     ]
    }
   ],
   "source": [
    "name=\"John\"\n",
    "a=\"My name is {}\"\n",
    "print(a.format(name))"
   ]
  },
  {
   "cell_type": "code",
   "execution_count": 5,
   "id": "04af4168-1fbd-40a5-9abe-b58179d90594",
   "metadata": {},
   "outputs": [
    {
     "name": "stdout",
     "output_type": "stream",
     "text": [
      "***John***\n"
     ]
    }
   ],
   "source": [
    "print(name.center(10,'*'))"
   ]
  },
  {
   "cell_type": "code",
   "execution_count": null,
   "id": "4333a84b-c052-492b-8fb0-0b230c47a1bb",
   "metadata": {},
   "outputs": [],
   "source": []
  }
 ],
 "metadata": {
  "kernelspec": {
   "display_name": "Python [conda env:base] *",
   "language": "python",
   "name": "conda-base-py"
  },
  "language_info": {
   "codemirror_mode": {
    "name": "ipython",
    "version": 3
   },
   "file_extension": ".py",
   "mimetype": "text/x-python",
   "name": "python",
   "nbconvert_exporter": "python",
   "pygments_lexer": "ipython3",
   "version": "3.12.7"
  }
 },
 "nbformat": 4,
 "nbformat_minor": 5
}
