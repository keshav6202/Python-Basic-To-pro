{
 "cells": [
  {
   "cell_type": "markdown",
   "id": "a253338b-5a66-492b-a30d-f0f9a202d957",
   "metadata": {},
   "source": [
    "Practice DAY 7"
   ]
  },
  {
   "cell_type": "code",
   "execution_count": 31,
   "id": "769e8f3c-95be-4586-9471-79c53b6f33e6",
   "metadata": {},
   "outputs": [
    {
     "name": "stdout",
     "output_type": "stream",
     "text": [
      "[23, 34, 45, 65, 76]\n"
     ]
    }
   ],
   "source": [
    "# Write a python program to sort a dictionary by value.\n",
    "a = {'mango':23,'apple': 45, 'banana': 34, 'cherry': 65, 'date': 76}\n",
    "a=sorted(a.values())\n",
    "print(a)"
   ]
  },
  {
   "cell_type": "code",
   "execution_count": 33,
   "id": "2de5f713-4b6d-41b1-a7bc-fc28dcd64e34",
   "metadata": {},
   "outputs": [
    {
     "name": "stdout",
     "output_type": "stream",
     "text": [
      "{1: 1, 2: 4, 3: 9, 4: 16, 5: 25, 6: 36, 7: 49, 8: 64, 9: 81, 10: 100, 11: 121, 12: 144, 13: 169, 14: 196, 15: 225}\n"
     ]
    }
   ],
   "source": [
    "# Write a python script to print a dictionary where the keys are numbers between 1 and 15 and the values are square of keys.\n",
    "\n",
    "squares = {}\n",
    "\n",
    "for i in range(1, 16):\n",
    "    squares[i] = i ** 2\n",
    "\n",
    "print(squares)\n"
   ]
  },
  {
   "cell_type": "code",
   "execution_count": 37,
   "id": "04dcbfc8-8f2b-4fc7-8875-3228f5eef58c",
   "metadata": {},
   "outputs": [
    {
     "name": "stdout",
     "output_type": "stream",
     "text": [
      "173838600\n"
     ]
    }
   ],
   "source": [
    "# Write a program to multiply all the items in a dictionary.\n",
    "\n",
    "a = {'mango':23,'apple': 45, 'banana': 34, 'cherry': 65, 'date': 76}\n",
    "product = 1\n",
    "for i in a:\n",
    "    product *=a[i]\n",
    "print(product)"
   ]
  },
  {
   "cell_type": "code",
   "execution_count": 42,
   "id": "aa9add98-f8ca-4e03-94f0-9cf43c32374d",
   "metadata": {},
   "outputs": [
    {
     "ename": "AttributeError",
     "evalue": "'dict_keys' object has no attribute 'keys'",
     "output_type": "error",
     "traceback": [
      "\u001b[1;31m---------------------------------------------------------------------------\u001b[0m",
      "\u001b[1;31mAttributeError\u001b[0m                            Traceback (most recent call last)",
      "Cell \u001b[1;32mIn[42], line 4\u001b[0m\n\u001b[0;32m      1\u001b[0m \u001b[38;5;66;03m# Write a python program to sort a dictionary by key.\u001b[39;00m\n\u001b[0;32m      3\u001b[0m a \u001b[38;5;241m=\u001b[39m {\u001b[38;5;124m'\u001b[39m\u001b[38;5;124mmango\u001b[39m\u001b[38;5;124m'\u001b[39m:\u001b[38;5;241m23\u001b[39m,\u001b[38;5;124m'\u001b[39m\u001b[38;5;124mapple\u001b[39m\u001b[38;5;124m'\u001b[39m: \u001b[38;5;241m45\u001b[39m, \u001b[38;5;124m'\u001b[39m\u001b[38;5;124mbanana\u001b[39m\u001b[38;5;124m'\u001b[39m: \u001b[38;5;241m34\u001b[39m, \u001b[38;5;124m'\u001b[39m\u001b[38;5;124mcherry\u001b[39m\u001b[38;5;124m'\u001b[39m: \u001b[38;5;241m65\u001b[39m, \u001b[38;5;124m'\u001b[39m\u001b[38;5;124mdate\u001b[39m\u001b[38;5;124m'\u001b[39m: \u001b[38;5;241m76\u001b[39m}\n\u001b[1;32m----> 4\u001b[0m b\u001b[38;5;241m=\u001b[39m\u001b[38;5;28msorted\u001b[39m(b\u001b[38;5;241m.\u001b[39mkeys())\n\u001b[0;32m      5\u001b[0m \u001b[38;5;28mprint\u001b[39m(b)\n",
      "\u001b[1;31mAttributeError\u001b[0m: 'dict_keys' object has no attribute 'keys'"
     ]
    }
   ],
   "source": [
    "# Write a python program to sort a dictionary by key.\n",
    "\n",
    "a = {'mango':23,'apple': 45, 'banana': 34, 'cherry': 65, 'date': 76}\n",
    "b=sorted(b.keys())\n",
    "print(b)"
   ]
  },
  {
   "cell_type": "code",
   "execution_count": null,
   "id": "8867a733-8aa7-48a1-ba44-3b2ac5a0e0ba",
   "metadata": {},
   "outputs": [],
   "source": []
  }
 ],
 "metadata": {
  "kernelspec": {
   "display_name": "Python [conda env:base] *",
   "language": "python",
   "name": "conda-base-py"
  },
  "language_info": {
   "codemirror_mode": {
    "name": "ipython",
    "version": 3
   },
   "file_extension": ".py",
   "mimetype": "text/x-python",
   "name": "python",
   "nbconvert_exporter": "python",
   "pygments_lexer": "ipython3",
   "version": "3.12.7"
  }
 },
 "nbformat": 4,
 "nbformat_minor": 5
}
