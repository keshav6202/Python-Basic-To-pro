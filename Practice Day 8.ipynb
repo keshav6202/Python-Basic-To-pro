{
 "cells": [
  {
   "cell_type": "markdown",
   "id": "538f26a0-d506-4b44-9087-8358cd74599a",
   "metadata": {},
   "source": [
    "# Practice Day 8"
   ]
  },
  {
   "cell_type": "code",
   "execution_count": 10,
   "id": "fc20b147-3dd1-48f4-86b8-ad7cf1322c7d",
   "metadata": {},
   "outputs": [
    {
     "name": "stdout",
     "output_type": "stream",
     "text": [
      "The maximum value of a set is: 89\n",
      "The minimum value of a set is: 4\n"
     ]
    }
   ],
   "source": [
    "# Write a program to find max and min in a set.\n",
    "\n",
    "a={23,12,4,5,56,76,89,9}\n",
    "print(\"The maximum value of a set is:\",max(a))\n",
    "print(\"The minimum value of a set is:\",min(a))"
   ]
  },
  {
   "cell_type": "code",
   "execution_count": 12,
   "id": "a7dde33c-0b71-4d99-801f-a11c370dd372",
   "metadata": {},
   "outputs": [
    {
     "name": "stdout",
     "output_type": "stream",
     "text": [
      "{12, 23, 76}\n"
     ]
    }
   ],
   "source": [
    "# Write a program to find common elements in three lists using sets.\n",
    "a={23,12,4,5,56,76,89,9}\n",
    "b={23,34,45,67,89,76,12}\n",
    "c={23,21,34,5,6,67,76,12}\n",
    "print(a.intersection(b,c))"
   ]
  },
  {
   "cell_type": "code",
   "execution_count": 20,
   "id": "b56288f7-8016-47f7-a594-0400a1abbf16",
   "metadata": {},
   "outputs": [
    {
     "name": "stdout",
     "output_type": "stream",
     "text": [
      "{56, 9, 4, 5}\n"
     ]
    }
   ],
   "source": [
    "# Write a program to find difference between two sets.\n",
    "a={23,12,4,5,56,76,89,9}\n",
    "b={23,34,45,67,89,76,12}\n",
    "print(a.difference(b))"
   ]
  },
  {
   "cell_type": "code",
   "execution_count": 36,
   "id": "e64b22bc-02f3-424f-bf33-5adec8b3f3ff",
   "metadata": {},
   "outputs": [
    {
     "name": "stdout",
     "output_type": "stream",
     "text": [
      "{4, 5, 9, 76, 23, 56, 89}\n"
     ]
    }
   ],
   "source": [
    "# Write a Python program to remove an item from a set if it is present in the set.\n",
    "a={23,12,4,5,56,76,89,9}\n",
    "a.remove(12)\n",
    "print(a)"
   ]
  },
  {
   "cell_type": "code",
   "execution_count": 52,
   "id": "9152a22a-a8af-4305-92ae-911c02253b64",
   "metadata": {},
   "outputs": [
    {
     "name": "stdout",
     "output_type": "stream",
     "text": [
      "False\n",
      "True\n"
     ]
    }
   ],
   "source": [
    "# Write a Python program to check if a set is a subset of another set.\n",
    "a={23,12,4,5,56,76,89,9}\n",
    "b={23,34,45,67,89,76,12}\n",
    "c={23,76,12}\n",
    "print(a.issubset(b))\n",
    "print(c.issubset(a))"
   ]
  },
  {
   "cell_type": "code",
   "execution_count": null,
   "id": "c2cbf257-57d6-4ddd-95e8-00616eee700e",
   "metadata": {},
   "outputs": [],
   "source": []
  }
 ],
 "metadata": {
  "kernelspec": {
   "display_name": "Python [conda env:base] *",
   "language": "python",
   "name": "conda-base-py"
  },
  "language_info": {
   "codemirror_mode": {
    "name": "ipython",
    "version": 3
   },
   "file_extension": ".py",
   "mimetype": "text/x-python",
   "name": "python",
   "nbconvert_exporter": "python",
   "pygments_lexer": "ipython3",
   "version": "3.12.7"
  }
 },
 "nbformat": 4,
 "nbformat_minor": 5
}
