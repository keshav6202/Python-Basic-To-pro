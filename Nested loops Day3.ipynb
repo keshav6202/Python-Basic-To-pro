{
 "cells": [
  {
   "cell_type": "markdown",
   "id": "87c7cda2-0a0e-4114-a987-7309508e8d49",
   "metadata": {},
   "source": [
    "# Nested loops"
   ]
  },
  {
   "cell_type": "code",
   "execution_count": null,
   "id": "5fcc0d23-2c65-4009-9ff8-ef0981878a26",
   "metadata": {},
   "outputs": [],
   "source": [
    "# A loop inside a loop is called as nested loop."
   ]
  },
  {
   "cell_type": "code",
   "execution_count": 4,
   "id": "ec175112-8f56-4f4c-81f0-16586138e5cf",
   "metadata": {},
   "outputs": [],
   "source": [
    "# Nested loops are also used to solve pattern problems."
   ]
  },
  {
   "cell_type": "code",
   "execution_count": 16,
   "id": "95c4de02-e424-459e-9903-fe13b98da02d",
   "metadata": {},
   "outputs": [
    {
     "name": "stdout",
     "output_type": "stream",
     "text": [
      "1 2 3 4 5 6 7 8 9 10 \n",
      "1 2 3 4 5 6 7 8 9 10 \n",
      "1 2 3 4 5 6 7 8 9 10 \n"
     ]
    }
   ],
   "source": [
    "for i in range (0,3):\n",
    "    for j in range (1,11):\n",
    "        print (j, end=\" \")\n",
    "    print()"
   ]
  },
  {
   "cell_type": "code",
   "execution_count": 23,
   "id": "18154723-2ea6-4a53-b81a-3099ad244406",
   "metadata": {},
   "outputs": [
    {
     "name": "stdout",
     "output_type": "stream",
     "text": [
      "1 \n",
      "1 2 \n",
      "1 2 3 \n",
      "1 2 3 4 \n",
      "1 2 3 4 5 \n"
     ]
    }
   ],
   "source": [
    "for i in range(1,6):\n",
    "    for j in range(1,i+1):\n",
    "        print(j,end=\" \")\n",
    "    print()   "
   ]
  },
  {
   "cell_type": "code",
   "execution_count": null,
   "id": "96309ffe-194f-4c84-bf38-857a154982c2",
   "metadata": {},
   "outputs": [],
   "source": []
  },
  {
   "cell_type": "markdown",
   "id": "04b83a33-7949-4f5a-a235-5e59754d2e50",
   "metadata": {},
   "source": [
    "# For loop with conditional statements"
   ]
  },
  {
   "cell_type": "code",
   "execution_count": 34,
   "id": "44dedd1e-bcee-4532-b976-84be7aeae497",
   "metadata": {},
   "outputs": [
    {
     "name": "stdout",
     "output_type": "stream",
     "text": [
      "1\n",
      "2\n",
      "Add this song to my favourite\n",
      "4\n",
      "5\n",
      "6\n",
      "7\n",
      "8\n",
      "9\n",
      "10\n"
     ]
    }
   ],
   "source": [
    "for i in range (1,11):\n",
    "  if i == 3:\n",
    "    print(\"Add this song to my favourite\")\n",
    "  else:\n",
    "    print(i)"
   ]
  },
  {
   "cell_type": "code",
   "execution_count": 36,
   "id": "c66658b3-1bb6-49b3-9889-1f36229fe231",
   "metadata": {},
   "outputs": [
    {
     "name": "stdout",
     "output_type": "stream",
     "text": [
      "24\n",
      "48\n",
      "72\n",
      "96\n"
     ]
    }
   ],
   "source": [
    "for i in range (1,101):\n",
    "    if i%8==0 and i%12==0:\n",
    "        print(i)"
   ]
  },
  {
   "cell_type": "markdown",
   "id": "2e78bd41-5f32-4dcc-a88b-8707f60af9ac",
   "metadata": {},
   "source": [
    "# Break and continue statement"
   ]
  },
  {
   "cell_type": "code",
   "execution_count": 39,
   "id": "e616aae4-bf49-4fa6-a0f1-bca00d2180ea",
   "metadata": {},
   "outputs": [],
   "source": [
    "# Continue statement is used when we want to skip a particular condition.\n",
    "# Break statement is used when we want to come out of the loop."
   ]
  },
  {
   "cell_type": "code",
   "execution_count": 41,
   "id": "14159aba-151d-4ee0-8cb9-c3809f5a2a8e",
   "metadata": {},
   "outputs": [
    {
     "name": "stdout",
     "output_type": "stream",
     "text": [
      "1\n",
      "2\n",
      "3\n",
      "4\n",
      "6\n",
      "7\n",
      "8\n",
      "9\n",
      "10\n"
     ]
    }
   ],
   "source": [
    "for i in range (1,11):\n",
    "    if i==5:\n",
    "        continue\n",
    "    else:\n",
    "        print (i)"
   ]
  },
  {
   "cell_type": "code",
   "execution_count": 43,
   "id": "1afeab89-757e-4eae-9d85-1e3f540afd7a",
   "metadata": {},
   "outputs": [
    {
     "name": "stdout",
     "output_type": "stream",
     "text": [
      "1\n",
      "2\n",
      "3\n",
      "4\n"
     ]
    }
   ],
   "source": [
    "for i in range (1,11):\n",
    "    if i==5:\n",
    "        break\n",
    "    else:\n",
    "        print (i)"
   ]
  },
  {
   "cell_type": "code",
   "execution_count": null,
   "id": "202fda0d-ce82-4b66-9e0d-59bfe89d4ba1",
   "metadata": {},
   "outputs": [],
   "source": [
    "# Write a program to find a sum of all the even numbers up to 50.\n",
    "Write a program to create a billing system at supermarket."
   ]
  },
  {
   "cell_type": "code",
   "execution_count": 64,
   "id": "bfadd5e4-6d9c-42b1-9142-3af2a1b5774f",
   "metadata": {},
   "outputs": [
    {
     "name": "stdout",
     "output_type": "stream",
     "text": [
      "Sum of even numbers up to 50 is: 650\n"
     ]
    }
   ],
   "source": [
    "sum = 0\n",
    "for i in range(0, 51):\n",
    "    if i%2==0:\n",
    "     sum = sum + i\n",
    "print(\"Sum of even numbers up to 50 is:\", sum)"
   ]
  },
  {
   "cell_type": "code",
   "execution_count": 66,
   "id": "8ebb4bef-dc75-472a-a147-3a03b8e4bc24",
   "metadata": {},
   "outputs": [],
   "source": [
    "# Write a program to write first 20 numbers and their squared numbers."
   ]
  },
  {
   "cell_type": "code",
   "execution_count": 78,
   "id": "9eee4ff9-27f9-41ea-99c5-a85c2ad401a4",
   "metadata": {},
   "outputs": [
    {
     "name": "stdout",
     "output_type": "stream",
     "text": [
      "1\n",
      "2\n",
      "3\n",
      "4\n",
      "5\n",
      "6\n",
      "7\n",
      "8\n",
      "9\n",
      "10\n",
      "11\n",
      "12\n",
      "13\n",
      "14\n",
      "15\n",
      "16\n",
      "17\n",
      "18\n",
      "19\n",
      "20\n",
      "Square of first 20 number is: 400\n"
     ]
    }
   ],
   "source": [
    "square=1\n",
    "for i in range (1,21):\n",
    "    print(i)\n",
    "    square=i**2\n",
    "print(\"Square of first 20 number is:\",square)"
   ]
  },
  {
   "cell_type": "code",
   "execution_count": 76,
   "id": "76e15e92-0193-4756-a220-76d13ecda7c8",
   "metadata": {},
   "outputs": [],
   "source": [
    "# Write a program to find sum of first 10 odd numbers using while loop."
   ]
  },
  {
   "cell_type": "code",
   "execution_count": 1,
   "id": "96ed5d58-b451-4d95-8973-78ff3039f84d",
   "metadata": {},
   "outputs": [
    {
     "name": "stdout",
     "output_type": "stream",
     "text": [
      "Sum of first 10 odd number is: 25\n"
     ]
    }
   ],
   "source": [
    "sum=0\n",
    "n=0\n",
    "while n <=10:\n",
    "    if n%2 !=0:\n",
    "     sum+=n\n",
    "    n+=1\n",
    "print(\"Sum of first 10 odd number is:\",sum)  "
   ]
  },
  {
   "cell_type": "code",
   "execution_count": null,
   "id": "59a406a6-252a-47f7-a7e7-746bf161c56d",
   "metadata": {},
   "outputs": [],
   "source": []
  },
  {
   "cell_type": "code",
   "execution_count": 3,
   "id": "90c126a3-b0bd-4848-a036-17da66db23d0",
   "metadata": {},
   "outputs": [],
   "source": [
    "# Write a program to check if a number is divisible by 8 and 12 up to 100 numbers."
   ]
  },
  {
   "cell_type": "code",
   "execution_count": 8,
   "id": "ffaf74f6-12bf-47a2-9736-6d0248b8bad3",
   "metadata": {},
   "outputs": [
    {
     "name": "stdout",
     "output_type": "stream",
     "text": [
      "24\n",
      "48\n",
      "72\n",
      "96\n"
     ]
    }
   ],
   "source": [
    "for i in range(1,101):\n",
    "    if i%8==0 and i%12==0:\n",
    "      print(i)\n",
    "    "
   ]
  },
  {
   "cell_type": "code",
   "execution_count": 10,
   "id": "5c185091-bd7a-48e5-be78-b5fa6e044a02",
   "metadata": {},
   "outputs": [],
   "source": [
    "# Write a program to create a billing system at supermarket."
   ]
  },
  {
   "cell_type": "code",
   "execution_count": 16,
   "id": "5b57c89c-2fd0-4c21-8efd-2d0ac40a62b1",
   "metadata": {},
   "outputs": [
    {
     "name": "stdout",
     "output_type": "stream",
     "text": [
      "*******************************************************\n"
     ]
    },
    {
     "name": "stdin",
     "output_type": "stream",
     "text": [
      "Enter the customer's name:  Aditya Raj\n"
     ]
    },
    {
     "name": "stdout",
     "output_type": "stream",
     "text": [
      "Enter the amount and quantity:\n"
     ]
    },
    {
     "name": "stdin",
     "output_type": "stream",
     "text": [
      "Enter amount:  100\n",
      "Enter quantity:  2\n",
      "Do you want to add more items? (yes/no):  yes\n"
     ]
    },
    {
     "name": "stdout",
     "output_type": "stream",
     "text": [
      "Enter the amount and quantity:\n"
     ]
    },
    {
     "name": "stdin",
     "output_type": "stream",
     "text": [
      "Enter amount:  1\n",
      "Enter quantity:  100\n",
      "Do you want to add more items? (yes/no):  no\n"
     ]
    },
    {
     "name": "stdout",
     "output_type": "stream",
     "text": [
      "----------------------------------------\n",
      "Name:  Aditya Raj\n",
      "Amount to be paid: 300.0\n",
      "----------------------------------------\n",
      "*******************************************************\n",
      "Thank you for shopping, Please visit again.\n",
      "\n"
     ]
    },
    {
     "name": "stdin",
     "output_type": "stream",
     "text": [
      "Do you want to go to the next customer? (yes/no):  no\n"
     ]
    }
   ],
   "source": [
    "print(\"*******************************************************\")\n",
    "\n",
    "while True:\n",
    "    name = input(\"Enter the customer's name: \")\n",
    "    total = 0\n",
    "\n",
    "    while True:\n",
    "        print(\"Enter the amount and quantity:\")\n",
    "        amount = float(input(\"Enter amount: \"))\n",
    "        quantity = float(input(\"Enter quantity: \"))\n",
    "        total += amount * quantity\n",
    "\n",
    "        repeat = input(\"Do you want to add more items? (yes/no): \")\n",
    "        if repeat.lower() == \"no\":\n",
    "            break\n",
    "\n",
    "    print(\"-\" * 40)\n",
    "    print(\"Name: \", name)\n",
    "    print(\"Amount to be paid:\", total)\n",
    "    print(\"-\" * 40)\n",
    "    print(\"*******************************************************\")\n",
    "    print(\"Thank you for shopping, Please visit again.\\n\")\n",
    "\n",
    "    repeat1 = input(\"Do you want to go to the next customer? (yes/no): \")\n",
    "    if repeat1.lower() == \"no\":\n",
    "        break\n"
   ]
  },
  {
   "cell_type": "code",
   "execution_count": null,
   "id": "deac1468-8fcc-4957-90a1-86ccd23d7b80",
   "metadata": {},
   "outputs": [],
   "source": []
  },
  {
   "cell_type": "code",
   "execution_count": null,
   "id": "9f73b77b-f758-4c43-872d-4cd1f536a4b5",
   "metadata": {},
   "outputs": [],
   "source": []
  }
 ],
 "metadata": {
  "kernelspec": {
   "display_name": "Python [conda env:base] *",
   "language": "python",
   "name": "conda-base-py"
  },
  "language_info": {
   "codemirror_mode": {
    "name": "ipython",
    "version": 3
   },
   "file_extension": ".py",
   "mimetype": "text/x-python",
   "name": "python",
   "nbconvert_exporter": "python",
   "pygments_lexer": "ipython3",
   "version": "3.12.7"
  }
 },
 "nbformat": 4,
 "nbformat_minor": 5
}
