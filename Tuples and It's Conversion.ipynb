{
 "cells": [
  {
   "cell_type": "markdown",
   "id": "c9c02c97-de08-4aaf-8b95-ed144218ef3c",
   "metadata": {},
   "source": [
    "# Tuples in Python"
   ]
  },
  {
   "cell_type": "code",
   "execution_count": 2,
   "id": "2c167d9c-6ed0-441e-a129-d6a2ccf8f0ce",
   "metadata": {},
   "outputs": [],
   "source": [
    "# Tuples are the collection of ordered and un-mutable data.\n",
    "\n",
    "# For tuples no brackets are mandatory. By choice one can use parentheses ().\n",
    "\n",
    "# The value inside a Tuple is separated by coma(,).\n",
    "\n",
    "# Once created, tuples cannot be changed.\n",
    "\n",
    "# Multiple datatypes can be written inside a tuples."
   ]
  },
  {
   "cell_type": "code",
   "execution_count": 4,
   "id": "8df49b0f-5a0b-4a37-a567-fb204f4c9e0b",
   "metadata": {},
   "outputs": [
    {
     "name": "stdout",
     "output_type": "stream",
     "text": [
      "('Apple', 'Mango', 'Banana', 1, 2, 3, 4, 1.23) <class 'tuple'>\n"
     ]
    }
   ],
   "source": [
    "a=(\"Apple\",\"Mango\",\"Banana\",1,2,3,4,1.23)\n",
    "print(a,type(a))"
   ]
  },
  {
   "cell_type": "code",
   "execution_count": 6,
   "id": "cf3c4667-a498-4fb1-88bd-34055ccf4c89",
   "metadata": {},
   "outputs": [
    {
     "ename": "AttributeError",
     "evalue": "'tuple' object has no attribute 'append'",
     "output_type": "error",
     "traceback": [
      "\u001b[1;31m---------------------------------------------------------------------------\u001b[0m",
      "\u001b[1;31mAttributeError\u001b[0m                            Traceback (most recent call last)",
      "Cell \u001b[1;32mIn[6], line 1\u001b[0m\n\u001b[1;32m----> 1\u001b[0m a\u001b[38;5;241m.\u001b[39mappend(\u001b[38;5;124m\"\u001b[39m\u001b[38;5;124mKiwi\u001b[39m\u001b[38;5;124m\"\u001b[39m)\n",
      "\u001b[1;31mAttributeError\u001b[0m: 'tuple' object has no attribute 'append'"
     ]
    }
   ],
   "source": [
    "a.append(\"Kiwi\")"
   ]
  },
  {
   "cell_type": "code",
   "execution_count": 14,
   "id": "7c796e3a-797d-472c-b00b-359c8cb441fe",
   "metadata": {},
   "outputs": [
    {
     "name": "stdout",
     "output_type": "stream",
     "text": [
      "Ironman <class 'str'>\n"
     ]
    }
   ],
   "source": [
    "b=\"Ironman\"\n",
    "print(b,type(b))"
   ]
  },
  {
   "cell_type": "code",
   "execution_count": 16,
   "id": "f5f406ed-e485-47c1-b152-4744ee3939d0",
   "metadata": {},
   "outputs": [
    {
     "name": "stdout",
     "output_type": "stream",
     "text": [
      "('Ironman',) <class 'tuple'>\n"
     ]
    }
   ],
   "source": [
    "b=\"Ironman\",    # If we use comma in the last then it will be tuplwe otherwise it will be string.\n",
    "print(b,type(b))"
   ]
  },
  {
   "cell_type": "code",
   "execution_count": null,
   "id": "9f071238-fae6-4097-8def-ec55d6785af2",
   "metadata": {},
   "outputs": [],
   "source": []
  },
  {
   "cell_type": "code",
   "execution_count": 19,
   "id": "2d36c829-b2dd-4bf2-bc86-60617f797ec6",
   "metadata": {},
   "outputs": [],
   "source": [
    "# Slicing and Iteration in Tuples"
   ]
  },
  {
   "cell_type": "code",
   "execution_count": null,
   "id": "120dba06-f504-43ca-8253-e59d90a5256e",
   "metadata": {},
   "outputs": [],
   "source": [
    "# Slicing"
   ]
  },
  {
   "cell_type": "code",
   "execution_count": 5,
   "id": "11d28f94-65f4-40e6-8610-a31d47049424",
   "metadata": {},
   "outputs": [
    {
     "name": "stdout",
     "output_type": "stream",
     "text": [
      "('Keshav', 'Piyush', 'Shivam', 'Dinesh') <class 'tuple'>\n"
     ]
    }
   ],
   "source": [
    "a=\"Keshav\", \"Piyush\",\"Shivam\",\"Dinesh\"\n",
    "print(a,type(a))"
   ]
  },
  {
   "cell_type": "code",
   "execution_count": 7,
   "id": "9b4ab839-adb3-4c82-8a36-9c86e9eb0b91",
   "metadata": {},
   "outputs": [],
   "source": [
    "# Syntax of slicing\n",
    "# sequence[start:stop:step]"
   ]
  },
  {
   "cell_type": "code",
   "execution_count": 9,
   "id": "8736209d-4af4-4bcd-8338-7eff43f85c44",
   "metadata": {},
   "outputs": [
    {
     "name": "stdout",
     "output_type": "stream",
     "text": [
      "('Piyush',)\n"
     ]
    }
   ],
   "source": [
    "print(a[1:2])"
   ]
  },
  {
   "cell_type": "code",
   "execution_count": 11,
   "id": "a4029d45-7e28-4661-a032-7e9246a8bef8",
   "metadata": {},
   "outputs": [
    {
     "name": "stdout",
     "output_type": "stream",
     "text": [
      "('Keshav', 'Piyush', 'Shivam')\n"
     ]
    }
   ],
   "source": [
    "print(a[0:3])"
   ]
  },
  {
   "cell_type": "code",
   "execution_count": 13,
   "id": "39f3854e-67a9-4460-bd10-a521d8966bf6",
   "metadata": {},
   "outputs": [
    {
     "name": "stdout",
     "output_type": "stream",
     "text": [
      "('Keshav', 'Piyush', 'Shivam')\n"
     ]
    }
   ],
   "source": [
    "print(a[0:3:1])"
   ]
  },
  {
   "cell_type": "code",
   "execution_count": 15,
   "id": "64ace8b2-e87a-4fe9-9423-8a94b2cf7907",
   "metadata": {},
   "outputs": [
    {
     "name": "stdout",
     "output_type": "stream",
     "text": [
      "('Piyush', 'Dinesh')\n"
     ]
    }
   ],
   "source": [
    "print(a[1::2])  # For gap value"
   ]
  },
  {
   "cell_type": "code",
   "execution_count": 17,
   "id": "29370a50-e621-47ee-a2c9-b71dacef79a7",
   "metadata": {},
   "outputs": [
    {
     "name": "stdout",
     "output_type": "stream",
     "text": [
      "('Dinesh', 'Shivam', 'Piyush', 'Keshav')\n"
     ]
    }
   ],
   "source": [
    "print(a[::-1])"
   ]
  },
  {
   "cell_type": "code",
   "execution_count": 19,
   "id": "bca9ee95-5c73-4804-8983-6f2d856fa6ae",
   "metadata": {},
   "outputs": [
    {
     "name": "stdout",
     "output_type": "stream",
     "text": [
      "('Shivam', 'Piyush', 'Keshav')\n"
     ]
    }
   ],
   "source": [
    "print(a[2::-1])"
   ]
  },
  {
   "cell_type": "code",
   "execution_count": null,
   "id": "631b7ae8-d0f9-4447-9d21-7ab955fbd215",
   "metadata": {},
   "outputs": [],
   "source": []
  },
  {
   "cell_type": "code",
   "execution_count": 22,
   "id": "9c5edb8e-ac1b-4490-96b5-3a025ec63841",
   "metadata": {},
   "outputs": [],
   "source": [
    "# Iteration"
   ]
  },
  {
   "cell_type": "code",
   "execution_count": 24,
   "id": "e49ebf1b-9f73-4afa-8f78-65c180b361a0",
   "metadata": {},
   "outputs": [
    {
     "name": "stdout",
     "output_type": "stream",
     "text": [
      "Keshav\n",
      "Piyush\n",
      "Shivam\n",
      "Dinesh\n"
     ]
    }
   ],
   "source": [
    "# With For loop\n",
    "for i in a:\n",
    "    print(i)"
   ]
  },
  {
   "cell_type": "code",
   "execution_count": 26,
   "id": "aa01d268-2b7a-441d-9c4d-6fbce508852d",
   "metadata": {},
   "outputs": [
    {
     "name": "stdout",
     "output_type": "stream",
     "text": [
      "Keshav\n",
      "Piyush\n",
      "Shivam\n",
      "Dinesh\n"
     ]
    }
   ],
   "source": [
    "# Along with range and length in for loop\n",
    "\n",
    "for i in range(len(a)):\n",
    "    print(a[i])"
   ]
  },
  {
   "cell_type": "code",
   "execution_count": 33,
   "id": "f7af1040-d234-439f-bbd6-13c6d5c92e7e",
   "metadata": {},
   "outputs": [
    {
     "name": "stdout",
     "output_type": "stream",
     "text": [
      "Keshav Piyush Shivam Dinesh "
     ]
    }
   ],
   "source": [
    "# Along with while loop\n",
    "\n",
    "i=0\n",
    "while i < len(a):\n",
    "  print(a[i],end=\" \")\n",
    "  i+=1"
   ]
  },
  {
   "cell_type": "code",
   "execution_count": null,
   "id": "f5da263c-3f77-443f-88b3-99661de3bd9b",
   "metadata": {},
   "outputs": [],
   "source": []
  },
  {
   "cell_type": "markdown",
   "id": "65240ff3-41f0-4fb7-9081-ea3229ce465b",
   "metadata": {},
   "source": [
    "# Conversion of Tuples and Tuple Function"
   ]
  },
  {
   "cell_type": "code",
   "execution_count": 38,
   "id": "93aa6930-84d6-463c-ab2e-a7566c74b802",
   "metadata": {},
   "outputs": [
    {
     "name": "stdout",
     "output_type": "stream",
     "text": [
      "Before conversion  <class 'tuple'>\n",
      "After conversio <class 'list'>\n"
     ]
    }
   ],
   "source": [
    "a=\"Keshav\", \"Piyush\",\"Shivam\",\"Dinesh\"\n",
    "print(\"Before conversion \",type(a))\n",
    "\n",
    "a=list(a)\n",
    "print(\"After conversio\",type(a))"
   ]
  },
  {
   "cell_type": "code",
   "execution_count": 40,
   "id": "57787d2f-4134-4072-919d-6b7a3f44a5de",
   "metadata": {},
   "outputs": [],
   "source": [
    "# After conversion the tuple into List , we can do all the operation such as:- remove,delete,pop etc."
   ]
  },
  {
   "cell_type": "code",
   "execution_count": 56,
   "id": "55bcf5c5-56b4-41cf-b6a8-4b446de595c2",
   "metadata": {},
   "outputs": [
    {
     "name": "stdout",
     "output_type": "stream",
     "text": [
      "['Keshav', 'Piyush', 'Shivam', 'Dinesh', 'Hritik', 'Hritik', 'Hritik', 'Hritik', 'Hritik', 'Hritik', 'Mohit'] <class 'list'>\n"
     ]
    }
   ],
   "source": [
    "a.append(\"Mohit\")\n",
    "print(a,type(a))"
   ]
  },
  {
   "cell_type": "code",
   "execution_count": 61,
   "id": "69d2d7ce-c7fc-4c70-aea0-1ccc0d653c6e",
   "metadata": {},
   "outputs": [],
   "source": [
    "# Now converting into tuples"
   ]
  },
  {
   "cell_type": "code",
   "execution_count": 63,
   "id": "c6f41a12-3d8a-497a-8436-2280583ee8e2",
   "metadata": {},
   "outputs": [
    {
     "name": "stdout",
     "output_type": "stream",
     "text": [
      "('Keshav', 'Piyush', 'Shivam', 'Dinesh', 'Hritik', 'Hritik', 'Hritik', 'Hritik', 'Hritik', 'Hritik', 'Mohit') <class 'tuple'>\n"
     ]
    }
   ],
   "source": [
    "a=tuple(a)\n",
    "print(a,type(a))"
   ]
  },
  {
   "cell_type": "code",
   "execution_count": 65,
   "id": "cf198c84-3305-4a34-a0c0-370cc3b83819",
   "metadata": {},
   "outputs": [
    {
     "data": {
      "text/plain": [
       "6"
      ]
     },
     "execution_count": 65,
     "metadata": {},
     "output_type": "execute_result"
    }
   ],
   "source": [
    "a.count(\"Hritik\")"
   ]
  },
  {
   "cell_type": "code",
   "execution_count": null,
   "id": "e2839416-c56a-4f95-b9b0-3e32a74d102a",
   "metadata": {},
   "outputs": [],
   "source": []
  }
 ],
 "metadata": {
  "kernelspec": {
   "display_name": "Python [conda env:base] *",
   "language": "python",
   "name": "conda-base-py"
  },
  "language_info": {
   "codemirror_mode": {
    "name": "ipython",
    "version": 3
   },
   "file_extension": ".py",
   "mimetype": "text/x-python",
   "name": "python",
   "nbconvert_exporter": "python",
   "pygments_lexer": "ipython3",
   "version": "3.12.7"
  }
 },
 "nbformat": 4,
 "nbformat_minor": 5
}
