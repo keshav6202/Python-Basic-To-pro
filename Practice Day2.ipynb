{
 "cells": [
  {
   "cell_type": "code",
   "execution_count": null,
   "id": "30becc7e-ff9b-4fa8-9699-95375dfc1ffe",
   "metadata": {},
   "outputs": [],
   "source": [
    "# Write a program to check if a number is positive."
   ]
  },
  {
   "cell_type": "code",
   "execution_count": 15,
   "id": "1f018fb4-59be-45c4-8123-b0a149482960",
   "metadata": {},
   "outputs": [
    {
     "name": "stdin",
     "output_type": "stream",
     "text": [
      "Enter a number: 1.2\n"
     ]
    },
    {
     "name": "stdout",
     "output_type": "stream",
     "text": [
      "1 is positive.\n"
     ]
    }
   ],
   "source": [
    "a=float(input(\"Enter a number:\"))\n",
    "if a>=0:\n",
    "    print(int(a),\"is positive.\")\n",
    "else:\n",
    "    print(int(a),\"is negative.\")"
   ]
  },
  {
   "cell_type": "code",
   "execution_count": 17,
   "id": "be9a16ee-1717-43e8-bb11-67219c877b80",
   "metadata": {},
   "outputs": [],
   "source": [
    "# Write a program to check whether a number is odd or even."
   ]
  },
  {
   "cell_type": "code",
   "execution_count": 23,
   "id": "b8714501-0c89-4034-b43b-706311b0b495",
   "metadata": {},
   "outputs": [
    {
     "name": "stdin",
     "output_type": "stream",
     "text": [
      "Enter a number: 56\n"
     ]
    },
    {
     "name": "stdout",
     "output_type": "stream",
     "text": [
      "56 is even number.\n"
     ]
    }
   ],
   "source": [
    "no=int(input(\"Enter a number:\"))\n",
    "if no%2==0:\n",
    "    print(no,\"is even number.\")\n",
    "else:\n",
    "    print(no,\"is odd number.\")"
   ]
  },
  {
   "cell_type": "code",
   "execution_count": 25,
   "id": "a8cfdc3a-d063-4cad-ab9c-6f848c9cbbd2",
   "metadata": {},
   "outputs": [],
   "source": [
    "# Write a program to create calculator."
   ]
  },
  {
   "cell_type": "code",
   "execution_count": 35,
   "id": "c581fe1a-f792-400f-9a24-aeb05b3bde8b",
   "metadata": {},
   "outputs": [
    {
     "name": "stdout",
     "output_type": "stream",
     "text": [
      "Simple Calculator\n",
      "Select operation:\n",
      "1. Addition (+)\n",
      "2. Subtraction (-)\n",
      "3. Multiplication (*)\n",
      "4. Division (/)\n"
     ]
    },
    {
     "name": "stdin",
     "output_type": "stream",
     "text": [
      "Enter choice (1/2/3/4):  4\n",
      "Enter first number:  6\n",
      "Enter second number:  3\n"
     ]
    },
    {
     "name": "stdout",
     "output_type": "stream",
     "text": [
      "Result: 2.0\n"
     ]
    }
   ],
   "source": [
    "def calculator():\n",
    "    print(\"Simple Calculator\")\n",
    "    print(\"Select operation:\")\n",
    "    print(\"1. Addition (+)\")\n",
    "    print(\"2. Subtraction (-)\")\n",
    "    print(\"3. Multiplication (*)\")\n",
    "    print(\"4. Division (/)\")\n",
    "\n",
    "    choice = input(\"Enter choice (1/2/3/4): \")\n",
    "\n",
    "    if choice in ('1', '2', '3', '4'):\n",
    "        num1 = float(input(\"Enter first number: \"))\n",
    "        num2 = float(input(\"Enter second number: \"))\n",
    "        \n",
    "        if choice == '1':\n",
    "            print(\"Result:\", num1 + num2)\n",
    "        elif choice == '2':\n",
    "            print(\"Result:\", num1 - num2)\n",
    "        elif choice == '3':\n",
    "            print(\"Result:\", num1 * num2)\n",
    "        elif choice == '4':\n",
    "            if num2 != 0:\n",
    "                print(\"Result:\", num1 / num2)\n",
    "            else:\n",
    "                print(\"Error: Division by zero is not allowed.\")\n",
    "    else:\n",
    "        print(\"Invalid input. Please select a valid option.\")\n",
    "\n",
    "calculator()\n"
   ]
  },
  {
   "cell_type": "code",
   "execution_count": 37,
   "id": "73c53c30-481e-4aee-b243-1d00e7949b97",
   "metadata": {},
   "outputs": [],
   "source": [
    "# Write a program check whether the passed letter is a vowel or not."
   ]
  },
  {
   "cell_type": "code",
   "execution_count": 19,
   "id": "1d56d4c7-da91-4673-8b70-771424778f96",
   "metadata": {},
   "outputs": [
    {
     "name": "stdin",
     "output_type": "stream",
     "text": [
      "Enter a letter: A\n"
     ]
    },
    {
     "name": "stdout",
     "output_type": "stream",
     "text": [
      "A is vowel.\n"
     ]
    }
   ],
   "source": [
    "alp=input(\"Enter a letter:\")\n",
    "if (alp in \"aeiou\") or (alp in\"AEIOU\"):\n",
    "   print(alp,\"is vowel.\")\n",
    "else:\n",
    "  print(alp,\"is not vowel.\")"
   ]
  },
  {
   "cell_type": "code",
   "execution_count": null,
   "id": "3ce46228-b2e3-4fb7-8736-0af89aa76923",
   "metadata": {},
   "outputs": [],
   "source": []
  },
  {
   "cell_type": "code",
   "execution_count": 47,
   "id": "4df83beb-2340-441c-93d1-6f96bc819fa1",
   "metadata": {},
   "outputs": [],
   "source": [
    "# Write a program to check if a number is a single digit number, 2-digit number and so on.. , up to 5 digits"
   ]
  },
  {
   "cell_type": "code",
   "execution_count": 83,
   "id": "da2660b0-90d8-4a20-9cd7-6ad73fb83b90",
   "metadata": {},
   "outputs": [
    {
     "name": "stdin",
     "output_type": "stream",
     "text": [
      "Enter a number: 30000\n"
     ]
    },
    {
     "name": "stdout",
     "output_type": "stream",
     "text": [
      "30000 is penta digit.\n"
     ]
    }
   ],
   "source": [
    "num=int(input(\"Enter a number:\"))\n",
    "if num<10:\n",
    "    print(num,\"is single digit.\")\n",
    "elif num<100:\n",
    "    print(num,\"is double digit.\")\n",
    "elif num<1000:\n",
    "    print(num,\"is triple digit.\")\n",
    "elif num<10000:\n",
    "    print(num,\"is quadrant digit.\")\n",
    "elif num<100000:\n",
    "    print(num,\"is penta digit.\")\n",
    "else:\n",
    "    print(num,\"is invalid digit. Please enter upto 5 digit.\")"
   ]
  },
  {
   "cell_type": "code",
   "execution_count": null,
   "id": "341b5d3a-3a38-4578-b3da-e3fc09ef6df2",
   "metadata": {},
   "outputs": [],
   "source": []
  }
 ],
 "metadata": {
  "kernelspec": {
   "display_name": "Python [conda env:base] *",
   "language": "python",
   "name": "conda-base-py"
  },
  "language_info": {
   "codemirror_mode": {
    "name": "ipython",
    "version": 3
   },
   "file_extension": ".py",
   "mimetype": "text/x-python",
   "name": "python",
   "nbconvert_exporter": "python",
   "pygments_lexer": "ipython3",
   "version": "3.12.7"
  }
 },
 "nbformat": 4,
 "nbformat_minor": 5
}
