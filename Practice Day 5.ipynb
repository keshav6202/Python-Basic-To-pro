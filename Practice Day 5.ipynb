{
 "cells": [
  {
   "cell_type": "code",
   "execution_count": 1,
   "id": "a7b083fb-7c82-4e63-b3c8-8118da49808d",
   "metadata": {},
   "outputs": [],
   "source": [
    "# Problems related to list."
   ]
  },
  {
   "cell_type": "code",
   "execution_count": 3,
   "id": "ad397bd4-0573-4778-9785-2c2db84753a0",
   "metadata": {},
   "outputs": [],
   "source": [
    "# A = [“Ross”, “Rachel”, “Monica”, “Joe”]\n",
    "\n",
    "# Write a program to swap first and fourth element."
   ]
  },
  {
   "cell_type": "code",
   "execution_count": 7,
   "id": "68867b95-70e5-4304-8c2f-2cc8c65cf05b",
   "metadata": {},
   "outputs": [
    {
     "name": "stdout",
     "output_type": "stream",
     "text": [
      "['Joe', 'Rachel', 'Monica', 'Ross']\n"
     ]
    }
   ],
   "source": [
    "a = [\"Ross\", \"Rachel\", \"Monica\", \"Joe\"]\n",
    "a[0],a[3]=a[3],a[0]\n",
    "print(a)"
   ]
  },
  {
   "cell_type": "code",
   "execution_count": null,
   "id": "7d787b7d-d83c-4aa2-8c0a-2eba7c34612c",
   "metadata": {},
   "outputs": [],
   "source": []
  },
  {
   "cell_type": "code",
   "execution_count": 10,
   "id": "d924f2dc-a41c-440a-abde-723dfc27467a",
   "metadata": {},
   "outputs": [],
   "source": [
    "# Write a program to add a new value at second position."
   ]
  },
  {
   "cell_type": "code",
   "execution_count": 12,
   "id": "b5c0c3c9-90de-4729-abb5-95df05d46fab",
   "metadata": {},
   "outputs": [
    {
     "name": "stdout",
     "output_type": "stream",
     "text": [
      "['Ross', 'PhonePe', 'Rachel', 'Monica', 'Joe']\n"
     ]
    }
   ],
   "source": [
    "a = [\"Ross\", \"Rachel\", \"Monica\", \"Joe\"]\n",
    "a.insert(1,\"PhonePe\")\n",
    "print(a)"
   ]
  },
  {
   "cell_type": "code",
   "execution_count": null,
   "id": "564be55e-e42d-4ad7-8054-94c2d42c536c",
   "metadata": {},
   "outputs": [],
   "source": []
  },
  {
   "cell_type": "code",
   "execution_count": 15,
   "id": "50710352-e9d7-42be-8cde-6702b6d5a3f1",
   "metadata": {},
   "outputs": [],
   "source": [
    "# Write a program to delete a value from 3rd position."
   ]
  },
  {
   "cell_type": "code",
   "execution_count": 19,
   "id": "e5760da4-f461-4eef-a312-9d55e54375eb",
   "metadata": {},
   "outputs": [
    {
     "name": "stdout",
     "output_type": "stream",
     "text": [
      "['Ross', 'Rachel', 'Joe']\n"
     ]
    }
   ],
   "source": [
    "a = [\"Ross\", \"Rachel\", \"Monica\", \"Joe\"]\n",
    "a.pop(2)\n",
    "print(a)"
   ]
  },
  {
   "cell_type": "code",
   "execution_count": null,
   "id": "d63de758-aa88-4ccb-81d9-6e8cbc5a4ba0",
   "metadata": {},
   "outputs": [],
   "source": []
  },
  {
   "cell_type": "code",
   "execution_count": 22,
   "id": "e9e9d160-960a-4f89-88f0-5b56c91a691f",
   "metadata": {},
   "outputs": [],
   "source": [
    "# B = [13, 7, 12, 10]"
   ]
  },
  {
   "cell_type": "code",
   "execution_count": 24,
   "id": "062a3a36-3546-4da8-a453-d062a0c203c1",
   "metadata": {},
   "outputs": [],
   "source": [
    "# Write a program to multiply all the numbers in the list."
   ]
  },
  {
   "cell_type": "code",
   "execution_count": 42,
   "id": "881b0438-ccaa-4500-a45d-90b4947b975c",
   "metadata": {},
   "outputs": [
    {
     "name": "stdout",
     "output_type": "stream",
     "text": [
      "13\n",
      "91\n",
      "1092\n",
      "10920\n"
     ]
    }
   ],
   "source": [
    "B = [13, 7, 12, 10]\n",
    "mul=1\n",
    "for i in (B) :\n",
    "    mul *= i\n",
    "    print(mul)\n",
    "    "
   ]
  },
  {
   "cell_type": "code",
   "execution_count": null,
   "id": "90579741-f168-49d6-9d92-c9a64ed4009a",
   "metadata": {},
   "outputs": [],
   "source": []
  },
  {
   "cell_type": "code",
   "execution_count": 40,
   "id": "66da453d-e3f1-4923-9713-d690a6e2692c",
   "metadata": {},
   "outputs": [],
   "source": [
    "# Write a program to get the largest number from the list."
   ]
  },
  {
   "cell_type": "code",
   "execution_count": 44,
   "id": "8f9e4d5d-c75d-40dc-b616-369d9f993b5f",
   "metadata": {},
   "outputs": [
    {
     "name": "stdout",
     "output_type": "stream",
     "text": [
      "[7, 10, 12, 13]\n"
     ]
    }
   ],
   "source": [
    "B = [13, 7, 12, 10]\n",
    "B.sort()\n",
    "print(B)"
   ]
  },
  {
   "cell_type": "code",
   "execution_count": 48,
   "id": "dfcd5f03-458e-4ab6-aa25-3209e1eeec1d",
   "metadata": {},
   "outputs": [
    {
     "name": "stdout",
     "output_type": "stream",
     "text": [
      "The largest value in the list is: 13\n"
     ]
    }
   ],
   "source": [
    "print(\"The largest value in the list is:\",B[-1])"
   ]
  },
  {
   "cell_type": "code",
   "execution_count": null,
   "id": "34a202e5-2dfa-45b0-bee0-5869910e2b65",
   "metadata": {},
   "outputs": [],
   "source": []
  },
  {
   "cell_type": "code",
   "execution_count": 51,
   "id": "ecf3afda-81c8-4ba5-879f-f27ce81351e9",
   "metadata": {},
   "outputs": [],
   "source": [
    "# Write a program to get the smallest number from the list."
   ]
  },
  {
   "cell_type": "code",
   "execution_count": 53,
   "id": "5fab8c28-a92e-49ea-9adb-6eb5fc02735b",
   "metadata": {},
   "outputs": [
    {
     "name": "stdout",
     "output_type": "stream",
     "text": [
      "[7, 10, 12, 13]\n"
     ]
    }
   ],
   "source": [
    "B = [13, 7, 12, 10]\n",
    "B.sort()\n",
    "print(B)"
   ]
  },
  {
   "cell_type": "code",
   "execution_count": 55,
   "id": "4eaf6e6b-f9f2-499c-9d0d-9da804ae8cc8",
   "metadata": {},
   "outputs": [
    {
     "name": "stdout",
     "output_type": "stream",
     "text": [
      "The smallest value in the list is: 7\n"
     ]
    }
   ],
   "source": [
    "print(\"The smallest value in the list is:\",B[0])"
   ]
  },
  {
   "cell_type": "code",
   "execution_count": null,
   "id": "a1065acc-d9cf-41e6-ab19-b6a4bece253d",
   "metadata": {},
   "outputs": [],
   "source": []
  }
 ],
 "metadata": {
  "kernelspec": {
   "display_name": "Python [conda env:base] *",
   "language": "python",
   "name": "conda-base-py"
  },
  "language_info": {
   "codemirror_mode": {
    "name": "ipython",
    "version": 3
   },
   "file_extension": ".py",
   "mimetype": "text/x-python",
   "name": "python",
   "nbconvert_exporter": "python",
   "pygments_lexer": "ipython3",
   "version": "3.12.7"
  }
 },
 "nbformat": 4,
 "nbformat_minor": 5
}
