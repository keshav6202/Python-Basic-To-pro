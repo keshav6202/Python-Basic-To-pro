{
 "cells": [
  {
   "cell_type": "code",
   "execution_count": 1,
   "id": "a9293ea9-2d13-407e-a35e-c0875e34cc1c",
   "metadata": {},
   "outputs": [],
   "source": [
    "# Write a program to find the length of the following string."
   ]
  },
  {
   "cell_type": "code",
   "execution_count": 9,
   "id": "c6f8f5c7-8f67-4d3b-9fb2-a35436b09b4e",
   "metadata": {},
   "outputs": [
    {
     "data": {
      "text/plain": [
       "43"
      ]
     },
     "execution_count": 9,
     "metadata": {},
     "output_type": "execute_result"
    }
   ],
   "source": [
    "A = ('''Why fit in, When you are Born to Stand Out!''')\n",
    "len(A)"
   ]
  },
  {
   "cell_type": "code",
   "execution_count": null,
   "id": "904e3e54-1070-48b5-87f8-37fabcd3da39",
   "metadata": {},
   "outputs": [],
   "source": [
    "# Write a program to check how many time alphabet o is occurring."
   ]
  },
  {
   "cell_type": "code",
   "execution_count": 23,
   "id": "2838cbc1-6e78-4691-b88a-bfc17f928f18",
   "metadata": {},
   "outputs": [
    {
     "name": "stdout",
     "output_type": "stream",
     "text": [
      "No. of times o is occuring is : 4\n"
     ]
    }
   ],
   "source": [
    "A = ('''Why fit in, When you are Born to Stand out!''')\n",
    "print (\"No. of times o is occuring is :\",A.count(\"o\"))"
   ]
  },
  {
   "cell_type": "code",
   "execution_count": 25,
   "id": "46486fd4-7d8d-4657-803f-2ef2553434c5",
   "metadata": {},
   "outputs": [],
   "source": [
    "# Write a program to convert the whole string into lower and upper cases."
   ]
  },
  {
   "cell_type": "code",
   "execution_count": 31,
   "id": "c7063014-b3f9-4937-9bb9-71942e1d7a0b",
   "metadata": {},
   "outputs": [
    {
     "name": "stdout",
     "output_type": "stream",
     "text": [
      "why fit in, when you are born to stand out!\n"
     ]
    }
   ],
   "source": [
    "A = ('''Why fit in, When you are Born to Stand out!''')\n",
    "x=A.lower()\n",
    "print(x)"
   ]
  },
  {
   "cell_type": "code",
   "execution_count": 49,
   "id": "718123d8-4460-4b18-86de-ad841fcfdc06",
   "metadata": {},
   "outputs": [
    {
     "name": "stdout",
     "output_type": "stream",
     "text": [
      "WHY FIT IN, WHEN YOU ARE BORN TO STAND OUT!\n"
     ]
    }
   ],
   "source": [
    "A = ('''Why fit in, When you are Born to Stand out!''')\n",
    "x=A.upper()\n",
    "print(x)"
   ]
  },
  {
   "cell_type": "code",
   "execution_count": 51,
   "id": "bb509bb3-972c-4c59-aedd-b0cb7d138f6a",
   "metadata": {},
   "outputs": [],
   "source": [
    "# Write a program to convert the following string into a title."
   ]
  },
  {
   "cell_type": "code",
   "execution_count": 53,
   "id": "2347272d-f466-4065-a635-1d533b65fb1b",
   "metadata": {},
   "outputs": [
    {
     "name": "stdout",
     "output_type": "stream",
     "text": [
      "Why Fit In, When You Are Born To Stand Out!\n"
     ]
    }
   ],
   "source": [
    "A = ('''Why fit in, When you are Born to Stand out!''')\n",
    "x=A.title()\n",
    "print(x)"
   ]
  },
  {
   "cell_type": "code",
   "execution_count": 55,
   "id": "aedc821a-3294-468d-83b5-3264a6c51ad8",
   "metadata": {},
   "outputs": [],
   "source": [
    "# Write a program to find the index number of “fit in”."
   ]
  },
  {
   "cell_type": "code",
   "execution_count": 57,
   "id": "2b4aa9fa-5c36-401b-b1a6-469dc1ca7ece",
   "metadata": {},
   "outputs": [
    {
     "name": "stdout",
     "output_type": "stream",
     "text": [
      "4\n"
     ]
    }
   ],
   "source": [
    "A = ('''Why fit in, When you are Born to Stand out!''')\n",
    "print(A.find(\"fit in\"))"
   ]
  },
  {
   "cell_type": "code",
   "execution_count": null,
   "id": "3b17f82c-ac89-4f9a-9188-aa481d442176",
   "metadata": {},
   "outputs": [],
   "source": []
  }
 ],
 "metadata": {
  "kernelspec": {
   "display_name": "Python [conda env:base] *",
   "language": "python",
   "name": "conda-base-py"
  },
  "language_info": {
   "codemirror_mode": {
    "name": "ipython",
    "version": 3
   },
   "file_extension": ".py",
   "mimetype": "text/x-python",
   "name": "python",
   "nbconvert_exporter": "python",
   "pygments_lexer": "ipython3",
   "version": "3.12.7"
  }
 },
 "nbformat": 4,
 "nbformat_minor": 5
}
