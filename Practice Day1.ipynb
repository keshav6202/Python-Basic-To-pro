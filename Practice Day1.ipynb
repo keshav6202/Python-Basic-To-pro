{
 "cells": [
  {
   "cell_type": "markdown",
   "id": "75de34d8-b55a-49e5-862d-06cb9ae40de0",
   "metadata": {},
   "source": [
    "# Pratices Day1"
   ]
  },
  {
   "cell_type": "code",
   "execution_count": 2,
   "id": "47d53b7e-1a56-4784-ad94-92985988850a",
   "metadata": {},
   "outputs": [],
   "source": [
    "# 1.Write a program to display a person’s name, age and address in three different lines."
   ]
  },
  {
   "cell_type": "code",
   "execution_count": 10,
   "id": "31578b26-452a-4d22-a701-1e54cbfed2ec",
   "metadata": {},
   "outputs": [
    {
     "name": "stdout",
     "output_type": "stream",
     "text": [
      "Keshav\n",
      "21\n",
      "Bihar\n"
     ]
    }
   ],
   "source": [
    "name=\"Keshav\"\n",
    "age=21\n",
    "address=\"Bihar\"\n",
    "print(name)\n",
    "print(age)\n",
    "print(address)"
   ]
  },
  {
   "cell_type": "code",
   "execution_count": 12,
   "id": "256e2422-7073-4c29-9d5b-67f238ca0a8a",
   "metadata": {},
   "outputs": [
    {
     "name": "stdout",
     "output_type": "stream",
     "text": [
      "Keshav\n",
      "21\n",
      "Bihar\n"
     ]
    }
   ],
   "source": [
    "name=\"Keshav\"\n",
    "age=21\n",
    "address=\"Bihar\"\n",
    "print(f\"{name}\\n{age}\\n{address}\")"
   ]
  },
  {
   "cell_type": "code",
   "execution_count": 14,
   "id": "e1663c1a-086b-4fe6-81de-ae6952cd776c",
   "metadata": {},
   "outputs": [],
   "source": [
    "# 2.Write a program to swap two variables."
   ]
  },
  {
   "cell_type": "code",
   "execution_count": 28,
   "id": "a134a1f6-bd8c-4015-94f2-879a11ff940a",
   "metadata": {},
   "outputs": [
    {
     "name": "stdout",
     "output_type": "stream",
     "text": [
      "51 21\n"
     ]
    }
   ],
   "source": [
    "a=21\n",
    "b=51\n",
    "a,b=b,a\n",
    "print(a,b)"
   ]
  },
  {
   "cell_type": "code",
   "execution_count": 30,
   "id": "a96d920d-b1e9-4569-8a0f-c66e351b674d",
   "metadata": {},
   "outputs": [],
   "source": [
    "# 2.Write a program to swap two variables using third variable."
   ]
  },
  {
   "cell_type": "code",
   "execution_count": 34,
   "id": "2e90b3c3-9196-4a4c-a749-421a6c9d740d",
   "metadata": {},
   "outputs": [
    {
     "name": "stdout",
     "output_type": "stream",
     "text": [
      "51 21\n"
     ]
    }
   ],
   "source": [
    "a = 21\n",
    "b = 51\n",
    "c = a\n",
    "a = b\n",
    "b = c\n",
    "print(a, b)"
   ]
  },
  {
   "cell_type": "code",
   "execution_count": 36,
   "id": "57f8355c-bf3c-4a25-802a-fad8d2805605",
   "metadata": {},
   "outputs": [],
   "source": [
    "# 3.Write a program to convert a float into integer."
   ]
  },
  {
   "cell_type": "code",
   "execution_count": 38,
   "id": "a57033f9-4f27-415b-9ff8-89a1e4aa033a",
   "metadata": {},
   "outputs": [
    {
     "name": "stdout",
     "output_type": "stream",
     "text": [
      "1\n"
     ]
    }
   ],
   "source": [
    "a=1.5\n",
    "print(int(a))"
   ]
  },
  {
   "cell_type": "code",
   "execution_count": 40,
   "id": "bfcbc62f-7da9-4a3a-b76e-6e6ab26900c3",
   "metadata": {},
   "outputs": [],
   "source": [
    "# 4.Write a program to take details from a student for ID-card and then print it in different lines."
   ]
  },
  {
   "cell_type": "code",
   "execution_count": 56,
   "id": "2a39e945-9139-4011-89b4-5749da362585",
   "metadata": {},
   "outputs": [
    {
     "name": "stdin",
     "output_type": "stream",
     "text": [
      "Enter name: Keshav\n",
      "Enter age: 21\n",
      "Enter dob: 03-01-2004\n",
      "Enter College name: PIET\n"
     ]
    },
    {
     "name": "stdout",
     "output_type": "stream",
     "text": [
      "\n",
      "---Student ID card----\n",
      "Name Keshav\n",
      "Age 21\n",
      "DOB 03-01-2004\n",
      "College Name PIET\n"
     ]
    }
   ],
   "source": [
    "name=input(\"Enter name:\")\n",
    "age=int(input(\"Enter age:\"))\n",
    "dob=input(\"Enter dob:\")\n",
    "collegeName=input(\"Enter College name:\")\n",
    "print(\"\\n---Student ID card----\" )\n",
    "print(\"Name\",name)\n",
    "print(\"Age\",age)\n",
    "print(\"DOB\",dob)\n",
    "print(\"College Name\",collegeName)"
   ]
  },
  {
   "cell_type": "code",
   "execution_count": 58,
   "id": "8a789596-8f08-446a-a127-820576317f69",
   "metadata": {},
   "outputs": [],
   "source": [
    "# 5.Write a program to take an user input as integer then convert to float."
   ]
  },
  {
   "cell_type": "code",
   "execution_count": 82,
   "id": "f7cc458f-4c4d-41b1-9ac4-21e965d6e949",
   "metadata": {},
   "outputs": [
    {
     "name": "stdin",
     "output_type": "stream",
     "text": [
      "Enter an integer value: 12\n"
     ]
    },
    {
     "name": "stdout",
     "output_type": "stream",
     "text": [
      "12 <class 'int'>\n",
      "12.0 <class 'float'>\n"
     ]
    }
   ],
   "source": [
    "a=int(input(\"Enter an integer value:\"))\n",
    "print(a,type(a))\n",
    "f=float(a)\n",
    "print(f,type(f))"
   ]
  },
  {
   "cell_type": "code",
   "execution_count": null,
   "id": "a1b6ade1-e1d7-40bb-8a79-f1295ee9789c",
   "metadata": {},
   "outputs": [],
   "source": []
  }
 ],
 "metadata": {
  "kernelspec": {
   "display_name": "Python [conda env:base] *",
   "language": "python",
   "name": "conda-base-py"
  },
  "language_info": {
   "codemirror_mode": {
    "name": "ipython",
    "version": 3
   },
   "file_extension": ".py",
   "mimetype": "text/x-python",
   "name": "python",
   "nbconvert_exporter": "python",
   "pygments_lexer": "ipython3",
   "version": "3.12.7"
  }
 },
 "nbformat": 4,
 "nbformat_minor": 5
}
