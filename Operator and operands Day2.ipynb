{
 "cells": [
  {
   "cell_type": "markdown",
   "id": "817f358f-3435-4239-a16f-43cc4ef54451",
   "metadata": {},
   "source": [
    "# Operator and operands"
   ]
  },
  {
   "cell_type": "code",
   "execution_count": 4,
   "id": "b4c3cd57-0054-4455-9206-c45fcaf38e8c",
   "metadata": {},
   "outputs": [],
   "source": [
    "# Operator is a special symbol used to peform an operation and on that variable operator is usedd called operands\n",
    "# e.g:- x+y=0    Where x,y,o----> are operands and + is operator"
   ]
  },
  {
   "cell_type": "code",
   "execution_count": 6,
   "id": "980f3c64-b5ca-4aab-99e7-c3372a23f8a5",
   "metadata": {},
   "outputs": [],
   "source": [
    "#Types of operators\n",
    "\n",
    "# 1. Arithmetic operator\n",
    "# 2.Comparision Operator\n",
    "# 3. Logical operator\n",
    "# 4. Assignment operator\n",
    "# 5. Bitwise operator\n",
    "# 6. Membership operator\n",
    "# 7. Identity operator"
   ]
  },
  {
   "cell_type": "code",
   "execution_count": 12,
   "id": "b14bdf6b-aa30-40ba-8f79-7b6240d6f479",
   "metadata": {},
   "outputs": [],
   "source": [
    "# Arithmetic Operator(+,-,*,/,%,//--->Floor division,**---->Exponential)"
   ]
  },
  {
   "cell_type": "code",
   "execution_count": 14,
   "id": "a5ffd088-59a3-423d-8fdd-1f670448e9ac",
   "metadata": {},
   "outputs": [
    {
     "data": {
      "text/plain": [
       "5"
      ]
     },
     "execution_count": 14,
     "metadata": {},
     "output_type": "execute_result"
    }
   ],
   "source": [
    "a=2\n",
    "b=3\n",
    "a+b"
   ]
  },
  {
   "cell_type": "code",
   "execution_count": 16,
   "id": "ecbd614f-24d4-42f9-9840-144e5b05ee97",
   "metadata": {},
   "outputs": [
    {
     "data": {
      "text/plain": [
       "-1"
      ]
     },
     "execution_count": 16,
     "metadata": {},
     "output_type": "execute_result"
    }
   ],
   "source": [
    "a-b"
   ]
  },
  {
   "cell_type": "code",
   "execution_count": 22,
   "id": "c94bbd48-05db-4b32-baad-ee7d0149c5e3",
   "metadata": {},
   "outputs": [
    {
     "data": {
      "text/plain": [
       "6"
      ]
     },
     "execution_count": 22,
     "metadata": {},
     "output_type": "execute_result"
    }
   ],
   "source": [
    "a*b"
   ]
  },
  {
   "cell_type": "code",
   "execution_count": 20,
   "id": "6bf7a292-3161-4cb6-8aa2-fbdee29eb41b",
   "metadata": {
    "collapsed": true,
    "jupyter": {
     "outputs_hidden": true
    }
   },
   "outputs": [
    {
     "data": {
      "text/plain": [
       "1.5"
      ]
     },
     "execution_count": 20,
     "metadata": {},
     "output_type": "execute_result"
    }
   ],
   "source": [
    "b/a"
   ]
  },
  {
   "cell_type": "code",
   "execution_count": 26,
   "id": "ab09eedc-44ef-402a-b8fb-45c435db07ea",
   "metadata": {},
   "outputs": [
    {
     "data": {
      "text/plain": [
       "1"
      ]
     },
     "execution_count": 26,
     "metadata": {},
     "output_type": "execute_result"
    }
   ],
   "source": [
    "b%a"
   ]
  },
  {
   "cell_type": "code",
   "execution_count": 34,
   "id": "38b7cffd-45d1-446a-a769-f275e57cc2cb",
   "metadata": {},
   "outputs": [],
   "source": [
    "a = 10\n",
    "b = 3\n",
    "  # Output: 3"
   ]
  },
  {
   "cell_type": "code",
   "execution_count": 36,
   "id": "94364141-0b42-4b9f-b5eb-553fe12153db",
   "metadata": {},
   "outputs": [
    {
     "data": {
      "text/plain": [
       "3"
      ]
     },
     "execution_count": 36,
     "metadata": {},
     "output_type": "execute_result"
    }
   ],
   "source": [
    "a//b"
   ]
  },
  {
   "cell_type": "code",
   "execution_count": 32,
   "id": "d684a3ca-5d8f-41a7-9f76-6b4577ebb50d",
   "metadata": {},
   "outputs": [
    {
     "data": {
      "text/plain": [
       "1000"
      ]
     },
     "execution_count": 32,
     "metadata": {},
     "output_type": "execute_result"
    }
   ],
   "source": [
    "a**b"
   ]
  },
  {
   "cell_type": "code",
   "execution_count": 38,
   "id": "015ea572-ea5a-4ea7-acb3-b4ae0b584081",
   "metadata": {},
   "outputs": [],
   "source": [
    "# Comparision operator"
   ]
  },
  {
   "cell_type": "code",
   "execution_count": 40,
   "id": "1469a0bb-73c4-422e-b665-56b87766f5d7",
   "metadata": {},
   "outputs": [],
   "source": [
    "a=2\n",
    "b=3"
   ]
  },
  {
   "cell_type": "code",
   "execution_count": 42,
   "id": "38a57039-71a5-43e8-bae3-ade8abcc0cd9",
   "metadata": {},
   "outputs": [
    {
     "data": {
      "text/plain": [
       "False"
      ]
     },
     "execution_count": 42,
     "metadata": {},
     "output_type": "execute_result"
    }
   ],
   "source": [
    "a>b"
   ]
  },
  {
   "cell_type": "code",
   "execution_count": 46,
   "id": "66e02a1b-2571-47f6-97a6-71f03a9e4073",
   "metadata": {},
   "outputs": [
    {
     "data": {
      "text/plain": [
       "True"
      ]
     },
     "execution_count": 46,
     "metadata": {},
     "output_type": "execute_result"
    }
   ],
   "source": [
    "a<b"
   ]
  },
  {
   "cell_type": "code",
   "execution_count": 48,
   "id": "7cbc7e80-3799-4006-9a86-b6f8bff8c445",
   "metadata": {},
   "outputs": [
    {
     "data": {
      "text/plain": [
       "True"
      ]
     },
     "execution_count": 48,
     "metadata": {},
     "output_type": "execute_result"
    }
   ],
   "source": [
    "a<=b"
   ]
  },
  {
   "cell_type": "code",
   "execution_count": 50,
   "id": "c0730de5-2133-4a7d-8e78-dd03dd20325a",
   "metadata": {},
   "outputs": [
    {
     "data": {
      "text/plain": [
       "False"
      ]
     },
     "execution_count": 50,
     "metadata": {},
     "output_type": "execute_result"
    }
   ],
   "source": [
    "a>=b"
   ]
  },
  {
   "cell_type": "code",
   "execution_count": 52,
   "id": "22906ac4-04a5-47c4-a969-80c6acd0f2e0",
   "metadata": {},
   "outputs": [
    {
     "data": {
      "text/plain": [
       "False"
      ]
     },
     "execution_count": 52,
     "metadata": {},
     "output_type": "execute_result"
    }
   ],
   "source": [
    "a==b"
   ]
  },
  {
   "cell_type": "code",
   "execution_count": 54,
   "id": "69b607b4-b62e-4707-8ce6-9586ba86d146",
   "metadata": {},
   "outputs": [
    {
     "data": {
      "text/plain": [
       "True"
      ]
     },
     "execution_count": 54,
     "metadata": {},
     "output_type": "execute_result"
    }
   ],
   "source": [
    "a!=b"
   ]
  },
  {
   "cell_type": "code",
   "execution_count": null,
   "id": "1e9fb2c7-13db-4959-9fa4-3a3e3aa6b43a",
   "metadata": {},
   "outputs": [],
   "source": []
  },
  {
   "cell_type": "code",
   "execution_count": 57,
   "id": "b341569a-c734-4bb5-ba81-05488ba23bba",
   "metadata": {},
   "outputs": [],
   "source": [
    "# Logical Operator"
   ]
  },
  {
   "cell_type": "code",
   "execution_count": 61,
   "id": "441dfe3b-d924-4187-afd4-c14b80b470a0",
   "metadata": {},
   "outputs": [
    {
     "data": {
      "text/plain": [
       "False"
      ]
     },
     "execution_count": 61,
     "metadata": {},
     "output_type": "execute_result"
    }
   ],
   "source": [
    "a>3 and b>4"
   ]
  },
  {
   "cell_type": "code",
   "execution_count": 67,
   "id": "0fe5e9f1-cfbb-4159-868f-38053b8bba9d",
   "metadata": {},
   "outputs": [
    {
     "data": {
      "text/plain": [
       "True"
      ]
     },
     "execution_count": 67,
     "metadata": {},
     "output_type": "execute_result"
    }
   ],
   "source": [
    "a>3 or b>2"
   ]
  },
  {
   "cell_type": "code",
   "execution_count": 69,
   "id": "9608caec-c24a-4795-8ba0-4803a1324957",
   "metadata": {},
   "outputs": [
    {
     "data": {
      "text/plain": [
       "True"
      ]
     },
     "execution_count": 69,
     "metadata": {},
     "output_type": "execute_result"
    }
   ],
   "source": [
    "not(a>3 and b>4)"
   ]
  },
  {
   "cell_type": "code",
   "execution_count": null,
   "id": "981bd9c0-c68a-4c26-b9f7-b2b50a81a13e",
   "metadata": {},
   "outputs": [],
   "source": []
  },
  {
   "cell_type": "code",
   "execution_count": 72,
   "id": "4d965197-b1d9-44a3-84c2-837f09a20ad1",
   "metadata": {},
   "outputs": [],
   "source": [
    "# Assignmet Operator"
   ]
  },
  {
   "cell_type": "code",
   "execution_count": 74,
   "id": "a712cef0-bcdf-413b-9698-6775aeccd087",
   "metadata": {},
   "outputs": [],
   "source": []
  },
  {
   "cell_type": "code",
   "execution_count": 80,
   "id": "c8395544-11ea-42bb-92b6-0fc5e8fc6e7f",
   "metadata": {},
   "outputs": [
    {
     "name": "stdout",
     "output_type": "stream",
     "text": [
      "1\n"
     ]
    }
   ],
   "source": [
    "score=0\n",
    "score+=1\n",
    "print(score)"
   ]
  },
  {
   "cell_type": "code",
   "execution_count": 82,
   "id": "8e990608-6487-4c50-bfac-c67796aa8b1b",
   "metadata": {},
   "outputs": [
    {
     "name": "stdout",
     "output_type": "stream",
     "text": [
      "-1\n"
     ]
    }
   ],
   "source": [
    "score=0\n",
    "score-=1\n",
    "print(score)"
   ]
  },
  {
   "cell_type": "code",
   "execution_count": 84,
   "id": "01784898-d39b-41d0-87b7-1586acc87182",
   "metadata": {},
   "outputs": [
    {
     "name": "stdout",
     "output_type": "stream",
     "text": [
      "3\n"
     ]
    }
   ],
   "source": [
    "score=3\n",
    "score*=1\n",
    "print(score)"
   ]
  },
  {
   "cell_type": "code",
   "execution_count": null,
   "id": "8fbdb219-6e99-43b2-8aa2-f93c3a55b943",
   "metadata": {},
   "outputs": [],
   "source": []
  },
  {
   "cell_type": "code",
   "execution_count": 2,
   "id": "1b31ee8b-e2ca-41d1-b839-a0b906a41028",
   "metadata": {},
   "outputs": [],
   "source": [
    "# Bitwise Operator"
   ]
  },
  {
   "cell_type": "code",
   "execution_count": 4,
   "id": "be2f7508-1617-456e-86a7-9d5ee4125f51",
   "metadata": {},
   "outputs": [],
   "source": [
    "# 1. And operator (&)"
   ]
  },
  {
   "cell_type": "code",
   "execution_count": 12,
   "id": "fa0181ea-c5db-4c45-bda2-e156ef1edff1",
   "metadata": {},
   "outputs": [
    {
     "data": {
      "text/plain": [
       "True"
      ]
     },
     "execution_count": 12,
     "metadata": {},
     "output_type": "execute_result"
    }
   ],
   "source": [
    "a=3\n",
    "b=4\n",
    "a>2 and b>3"
   ]
  },
  {
   "cell_type": "code",
   "execution_count": 14,
   "id": "2fa0cbbc-97ff-4e04-a27b-5943709b4908",
   "metadata": {},
   "outputs": [
    {
     "name": "stdout",
     "output_type": "stream",
     "text": [
      "0b1010\n"
     ]
    }
   ],
   "source": [
    "print(bin(10))"
   ]
  },
  {
   "cell_type": "code",
   "execution_count": 16,
   "id": "02541404-9bbf-4ce7-ac76-15f5b42ec2ee",
   "metadata": {},
   "outputs": [
    {
     "name": "stdout",
     "output_type": "stream",
     "text": [
      "0b1110\n"
     ]
    }
   ],
   "source": [
    "print(bin(14))"
   ]
  },
  {
   "cell_type": "code",
   "execution_count": 18,
   "id": "bb141bab-030a-4eda-85ff-777bbc48d52f",
   "metadata": {},
   "outputs": [
    {
     "name": "stdout",
     "output_type": "stream",
     "text": [
      "8\n"
     ]
    }
   ],
   "source": [
    "print(10 & 8)"
   ]
  },
  {
   "cell_type": "code",
   "execution_count": 30,
   "id": "278f638e-7715-4b7d-93de-0228968a79bd",
   "metadata": {},
   "outputs": [],
   "source": [
    "# 2. OR operator( | )"
   ]
  },
  {
   "cell_type": "code",
   "execution_count": 24,
   "id": "fb683091-d981-431a-af0e-09fe79d8e5e4",
   "metadata": {},
   "outputs": [
    {
     "name": "stdout",
     "output_type": "stream",
     "text": [
      "10\n"
     ]
    }
   ],
   "source": [
    "print(10 | 8)"
   ]
  },
  {
   "cell_type": "code",
   "execution_count": 28,
   "id": "e7c258f6-f298-428d-8667-717875628ab0",
   "metadata": {},
   "outputs": [],
   "source": [
    "# 3. XOR Operator (^)"
   ]
  },
  {
   "cell_type": "code",
   "execution_count": 34,
   "id": "6c06d996-e767-4b76-b2bc-962daecb7f4a",
   "metadata": {},
   "outputs": [
    {
     "name": "stdout",
     "output_type": "stream",
     "text": [
      "2\n"
     ]
    }
   ],
   "source": [
    "print(10 ^ 8)"
   ]
  },
  {
   "cell_type": "code",
   "execution_count": 38,
   "id": "5dc376c3-e732-4ae3-a0bd-9f5a029c7f47",
   "metadata": {},
   "outputs": [],
   "source": [
    "# 4. Zero fill left shift (>>)"
   ]
  },
  {
   "cell_type": "code",
   "execution_count": 40,
   "id": "84ea2300-dc25-43d0-a435-155fb72dc5d0",
   "metadata": {},
   "outputs": [
    {
     "name": "stdout",
     "output_type": "stream",
     "text": [
      "2\n"
     ]
    }
   ],
   "source": [
    "print(10>>2)"
   ]
  },
  {
   "cell_type": "code",
   "execution_count": 42,
   "id": "7dcd10c6-01a5-41ee-ada6-5066f0696437",
   "metadata": {},
   "outputs": [],
   "source": [
    "# 5. Zero fill right shift"
   ]
  },
  {
   "cell_type": "code",
   "execution_count": 44,
   "id": "b4840f6f-1578-40de-997e-1bba08fbe158",
   "metadata": {},
   "outputs": [
    {
     "name": "stdout",
     "output_type": "stream",
     "text": [
      "40\n"
     ]
    }
   ],
   "source": [
    "print(10<<2)"
   ]
  },
  {
   "cell_type": "code",
   "execution_count": null,
   "id": "3fadef88-7bfb-474f-aea8-e236d02c505a",
   "metadata": {},
   "outputs": [],
   "source": []
  },
  {
   "cell_type": "code",
   "execution_count": 47,
   "id": "7aa77835-b6f1-4bd7-b8b9-fa0c180b2157",
   "metadata": {},
   "outputs": [
    {
     "data": {
      "text/plain": [
       "' Types:\\n1. In\\n2. not in'"
      ]
     },
     "execution_count": 47,
     "metadata": {},
     "output_type": "execute_result"
    }
   ],
   "source": [
    "# Membership operator\n",
    "# ---> Membership opeerators are used to check the presence of a sequence in an object.\n",
    "\"\"\" Types:\n",
    "1. In\n",
    "2. not in\"\"\""
   ]
  },
  {
   "cell_type": "code",
   "execution_count": 49,
   "id": "162743b5-aee1-4d8d-aa89-2b693301c9a9",
   "metadata": {},
   "outputs": [],
   "source": [
    "a=\"hello\""
   ]
  },
  {
   "cell_type": "code",
   "execution_count": 51,
   "id": "5c4cd0a4-65db-4b26-8f43-f89a23c51ecc",
   "metadata": {},
   "outputs": [
    {
     "name": "stdout",
     "output_type": "stream",
     "text": [
      "False\n"
     ]
    }
   ],
   "source": [
    "print(\"p\" in a)"
   ]
  },
  {
   "cell_type": "code",
   "execution_count": 53,
   "id": "80122ce8-f25d-41b2-9228-a09d177799af",
   "metadata": {},
   "outputs": [
    {
     "name": "stdout",
     "output_type": "stream",
     "text": [
      "True\n"
     ]
    }
   ],
   "source": [
    "print(\"p\" not in a)"
   ]
  },
  {
   "cell_type": "code",
   "execution_count": null,
   "id": "df543bb3-f098-4ec3-af33-521463c9de73",
   "metadata": {},
   "outputs": [],
   "source": []
  },
  {
   "cell_type": "code",
   "execution_count": 56,
   "id": "1a546201-569f-4aa8-8a29-a4b5442cb9e3",
   "metadata": {},
   "outputs": [],
   "source": [
    "# Conditional Statements\n",
    "\"\"\" It executes only if it is true condition\"\"\""
   ]
  },
  {
   "cell_type": "code",
   "execution_count": 58,
   "id": "2eaad90e-5328-44a8-b434-6acd685a5fc8",
   "metadata": {},
   "outputs": [],
   "source": [
    "# a. If statement\n",
    "---> it is decision making statement."
   ]
  },
  {
   "cell_type": "code",
   "execution_count": null,
   "id": "33217a60-7af5-4cb6-a846-390cfe5a40ee",
   "metadata": {},
   "outputs": [],
   "source": [
    "# Syntax \n",
    "   if expression:\n",
    "   statement"
   ]
  },
  {
   "cell_type": "code",
   "execution_count": 3,
   "id": "b58dfee1-2430-4b56-b26e-ac079c774c92",
   "metadata": {},
   "outputs": [
    {
     "name": "stdout",
     "output_type": "stream",
     "text": [
      "Grade A\n"
     ]
    }
   ],
   "source": [
    "marks=87\n",
    "if marks>=81:\n",
    "    print(\"Grade A\")\n"
   ]
  },
  {
   "cell_type": "code",
   "execution_count": 7,
   "id": "c6e82272-7205-48ce-adf8-a53248d36e2c",
   "metadata": {},
   "outputs": [
    {
     "name": "stdin",
     "output_type": "stream",
     "text": [
      "Enter marks of students: 95\n"
     ]
    },
    {
     "name": "stdout",
     "output_type": "stream",
     "text": [
      "Grade A\n"
     ]
    }
   ],
   "source": [
    "a=float(input(\"Enter marks of students:\"))\n",
    "if a>=90:\n",
    "    print(\"Grade A\")"
   ]
  },
  {
   "cell_type": "code",
   "execution_count": 13,
   "id": "10457578-f48b-441f-8620-d0e2d101a77b",
   "metadata": {},
   "outputs": [
    {
     "name": "stdin",
     "output_type": "stream",
     "text": [
      "Enter marks of students: 65\n"
     ]
    },
    {
     "name": "stdout",
     "output_type": "stream",
     "text": [
      "Fail\n"
     ]
    }
   ],
   "source": [
    "a=float(input(\"Enter marks of students:\"))\n",
    "if a>=90:\n",
    "    print(\"Grade A\")\n",
    "elif a>=80:\n",
    "    print(\"Grade B\")\n",
    "else:\n",
    "    print(\"Fail\")"
   ]
  },
  {
   "cell_type": "code",
   "execution_count": 21,
   "id": "4547a288-22ac-4d5a-95d8-db04ff2d8f96",
   "metadata": {},
   "outputs": [
    {
     "name": "stdin",
     "output_type": "stream",
     "text": [
      "Enter marks of students: 89\n"
     ]
    },
    {
     "name": "stdout",
     "output_type": "stream",
     "text": [
      "Grade B\n"
     ]
    }
   ],
   "source": [
    "a=float(input(\"Enter marks of students:\"))\n",
    "if a>=90:\n",
    "    print(\"Grade A\")\n",
    "elif a>=80:\n",
    "    print(\"Grade B\")\n",
    "elif a>=70:\n",
    "    print(\"Grade C\")   \n",
    "elif a>=60:\n",
    "    print(\"Grade D\")\n",
    "elif a>=50:\n",
    "    print(\"Grade E\")\n",
    "else:\n",
    "    print(\"Fail\")"
   ]
  },
  {
   "cell_type": "code",
   "execution_count": null,
   "id": "7ef39f5c-795f-4870-b7f8-4eedc5173f85",
   "metadata": {},
   "outputs": [],
   "source": []
  },
  {
   "cell_type": "code",
   "execution_count": 24,
   "id": "a4809cef-8a6a-4097-9e8b-5d39871c2c4c",
   "metadata": {},
   "outputs": [],
   "source": [
    "# Short hand if statement\n",
    "# It is used to write one line code to make faster by taking less time execution."
   ]
  },
  {
   "cell_type": "code",
   "execution_count": 26,
   "id": "cf89a351-88af-4172-bf94-5f2c4cd02dee",
   "metadata": {},
   "outputs": [],
   "source": [
    "# Syntax\n",
    "        if condition: Body of if"
   ]
  },
  {
   "cell_type": "code",
   "execution_count": 30,
   "id": "1068e617-d594-4472-8ac3-7ea8e521f087",
   "metadata": {},
   "outputs": [
    {
     "name": "stdout",
     "output_type": "stream",
     "text": [
      "Grade A\n"
     ]
    }
   ],
   "source": [
    "marks=85\n",
    "if marks>=70 : print(\"Grade A\")"
   ]
  },
  {
   "cell_type": "code",
   "execution_count": 34,
   "id": "a65c1f75-91c8-4d00-ac00-dc5acfc1320c",
   "metadata": {},
   "outputs": [],
   "source": [
    "# Short hand if else statement\n",
    "# Syntax\n",
    "        Body of if   if condition   else   body of else"
   ]
  },
  {
   "cell_type": "code",
   "execution_count": 36,
   "id": "77f35c17-65ff-4e5c-9451-442d6b5f3e7e",
   "metadata": {},
   "outputs": [
    {
     "name": "stdout",
     "output_type": "stream",
     "text": [
      "Grade A\n"
     ]
    }
   ],
   "source": [
    "marks=85\n",
    "print(\"Grade A\") if marks>=70 else print(\"Fail\")"
   ]
  },
  {
   "cell_type": "code",
   "execution_count": null,
   "id": "c9597c69-0390-400a-aaf3-bd7ee4004032",
   "metadata": {},
   "outputs": [],
   "source": []
  }
 ],
 "metadata": {
  "kernelspec": {
   "display_name": "Python [conda env:base] *",
   "language": "python",
   "name": "conda-base-py"
  },
  "language_info": {
   "codemirror_mode": {
    "name": "ipython",
    "version": 3
   },
   "file_extension": ".py",
   "mimetype": "text/x-python",
   "name": "python",
   "nbconvert_exporter": "python",
   "pygments_lexer": "ipython3",
   "version": "3.12.7"
  }
 },
 "nbformat": 4,
 "nbformat_minor": 5
}
