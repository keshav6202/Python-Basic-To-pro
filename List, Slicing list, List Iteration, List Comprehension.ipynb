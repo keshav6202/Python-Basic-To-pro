{
 "cells": [
  {
   "cell_type": "markdown",
   "id": "1b5f31d7-0b01-44cc-829e-c69673908ba8",
   "metadata": {},
   "source": [
    "# List"
   ]
  },
  {
   "cell_type": "code",
   "execution_count": 8,
   "id": "b8b382f8-179c-4197-8f0a-8d74e580c1c3",
   "metadata": {},
   "outputs": [],
   "source": [
    "# Lists are the collection of ordered and mutable data.\n",
    "\n",
    "# Lists are written inside the squared brackets [ ].\n",
    "\n",
    "# The value inside a list is separated by coma (,).\n",
    "\n",
    "# Mutable means once created, they can be changed\n",
    "\n",
    "# Multiple datatypes can be written inside a list."
   ]
  },
  {
   "cell_type": "code",
   "execution_count": 10,
   "id": "f70589f0-892d-45c5-9ec5-d0267e0399e3",
   "metadata": {},
   "outputs": [
    {
     "name": "stdout",
     "output_type": "stream",
     "text": [
      "['apple', 'banana', 'carrot'] <class 'list'>\n"
     ]
    }
   ],
   "source": [
    "fruits= [\"apple\",\"banana\",\"carrot\"]\n",
    "print(fruits,type(fruits))"
   ]
  },
  {
   "cell_type": "code",
   "execution_count": null,
   "id": "23f4e5db-0230-47e7-aec1-7a78a8f55113",
   "metadata": {},
   "outputs": [],
   "source": []
  },
  {
   "cell_type": "markdown",
   "id": "f5d84ba5-3686-489e-af48-1712774b00ae",
   "metadata": {},
   "source": [
    "# Slicing Lists"
   ]
  },
  {
   "cell_type": "code",
   "execution_count": 14,
   "id": "bf37c22e-3aad-4e18-bdc2-3aea0fe76d6b",
   "metadata": {},
   "outputs": [
    {
     "name": "stdout",
     "output_type": "stream",
     "text": [
      "The Captain America\n"
     ]
    }
   ],
   "source": [
    "a=[\"Ironman\",\"Thor\",\"The Captain America\",\"Hulk\"]\n",
    "print(a[2])"
   ]
  },
  {
   "cell_type": "code",
   "execution_count": 16,
   "id": "5648ba78-c850-4f22-8984-b9a9d726b386",
   "metadata": {},
   "outputs": [
    {
     "name": "stdout",
     "output_type": "stream",
     "text": [
      "Thor\n"
     ]
    }
   ],
   "source": [
    "print(a[1])"
   ]
  },
  {
   "cell_type": "code",
   "execution_count": 20,
   "id": "e4a6a514-0e4d-4844-93a4-f28e8e4b4f2a",
   "metadata": {},
   "outputs": [
    {
     "name": "stdout",
     "output_type": "stream",
     "text": [
      "Thor\n"
     ]
    }
   ],
   "source": [
    "print(a[-3])"
   ]
  },
  {
   "cell_type": "code",
   "execution_count": null,
   "id": "14c453f9-17ed-4760-bf3f-d0511cc55144",
   "metadata": {},
   "outputs": [],
   "source": []
  },
  {
   "cell_type": "code",
   "execution_count": 25,
   "id": "3a2527a2-e6a9-4a23-9d5b-83ed707282bd",
   "metadata": {},
   "outputs": [
    {
     "name": "stdout",
     "output_type": "stream",
     "text": [
      "['Thor', 'The Captain America']\n"
     ]
    }
   ],
   "source": [
    "print(a[1:3])"
   ]
  },
  {
   "cell_type": "code",
   "execution_count": 27,
   "id": "475208b4-5733-43b9-8a4e-975c260b3c2f",
   "metadata": {},
   "outputs": [
    {
     "name": "stdout",
     "output_type": "stream",
     "text": [
      "['Ironman', 'Thor', 'The Captain America']\n"
     ]
    }
   ],
   "source": [
    "print(a[:3])"
   ]
  },
  {
   "cell_type": "code",
   "execution_count": 33,
   "id": "cf2fa21d-4afd-4c1d-b001-9b40c501f9d5",
   "metadata": {},
   "outputs": [
    {
     "name": "stdout",
     "output_type": "stream",
     "text": [
      "['Ironman', 'Thor', 'The Captain America', 'Hulk']\n"
     ]
    }
   ],
   "source": [
    "print(a[0:5])"
   ]
  },
  {
   "cell_type": "code",
   "execution_count": 35,
   "id": "9e92bfd2-0ac6-4f27-a710-57243ccb1a06",
   "metadata": {},
   "outputs": [
    {
     "name": "stdout",
     "output_type": "stream",
     "text": [
      "['Ironman', 'The Captain America']\n"
     ]
    }
   ],
   "source": [
    "print(a[::2])"
   ]
  },
  {
   "cell_type": "code",
   "execution_count": 37,
   "id": "b456ea51-6e6b-45b1-b05d-2b09845cb28a",
   "metadata": {},
   "outputs": [
    {
     "name": "stdout",
     "output_type": "stream",
     "text": [
      "['Thor', 'The Captain America']\n"
     ]
    }
   ],
   "source": [
    "print(a[-3:-1])"
   ]
  },
  {
   "cell_type": "code",
   "execution_count": 39,
   "id": "049ffd95-4f5f-4d68-b64d-0706b7477cad",
   "metadata": {},
   "outputs": [
    {
     "name": "stdout",
     "output_type": "stream",
     "text": [
      "['Hulk', 'The Captain America', 'Thor', 'Ironman']\n"
     ]
    }
   ],
   "source": [
    "print(a[::-1])  # To take reverse"
   ]
  },
  {
   "cell_type": "code",
   "execution_count": 43,
   "id": "f4f59c07-f4ab-4113-be44-58adc6cd4451",
   "metadata": {},
   "outputs": [
    {
     "name": "stdout",
     "output_type": "stream",
     "text": [
      "['Hulk', 'The Captain America', 'Thor']\n"
     ]
    }
   ],
   "source": [
    "print(a[-1:-4:-1])"
   ]
  },
  {
   "cell_type": "code",
   "execution_count": null,
   "id": "2ae7130a-80b1-47c4-96d4-f04fcc547dc2",
   "metadata": {},
   "outputs": [],
   "source": []
  },
  {
   "cell_type": "markdown",
   "id": "2da4d4d8-2109-4581-8f2a-9376b07a6223",
   "metadata": {},
   "source": [
    "# List Iteration"
   ]
  },
  {
   "cell_type": "code",
   "execution_count": 47,
   "id": "bed63d53-32be-45d2-97f7-a2d4502dbc50",
   "metadata": {},
   "outputs": [],
   "source": [
    "# Iteration using for loop"
   ]
  },
  {
   "cell_type": "code",
   "execution_count": 6,
   "id": "6a30b029-6e4d-43fd-8885-0b5f599c9367",
   "metadata": {},
   "outputs": [
    {
     "name": "stdout",
     "output_type": "stream",
     "text": [
      "Ironman\n",
      "Thor\n",
      "The Captain America\n",
      "Hulk\n"
     ]
    }
   ],
   "source": [
    "a=[\"Ironman\",\"Thor\",\"The Captain America\",\"Hulk\"]\n",
    "for i in a:\n",
    "    print(i)"
   ]
  },
  {
   "cell_type": "code",
   "execution_count": null,
   "id": "53072164-4f59-4730-a577-b5534caf94f5",
   "metadata": {},
   "outputs": [],
   "source": []
  },
  {
   "cell_type": "code",
   "execution_count": 9,
   "id": "6f8c70c8-d05c-4640-b1fc-dc91e61bb927",
   "metadata": {},
   "outputs": [],
   "source": [
    "# Iteration using for loop with Range and Length function"
   ]
  },
  {
   "cell_type": "code",
   "execution_count": 11,
   "id": "6f0ef0e8-db85-46ed-834a-ea4c85ab3c46",
   "metadata": {},
   "outputs": [
    {
     "name": "stdout",
     "output_type": "stream",
     "text": [
      "Ironman Thor The Captain America Hulk "
     ]
    }
   ],
   "source": [
    "for i in range(len(a)):\n",
    "   print(a[i],end=\" \")"
   ]
  },
  {
   "cell_type": "code",
   "execution_count": null,
   "id": "57e3cbfd-b851-45df-9084-ceced3b47679",
   "metadata": {},
   "outputs": [],
   "source": []
  },
  {
   "cell_type": "code",
   "execution_count": 14,
   "id": "c438d019-ce46-46fa-b6db-c8c581c96261",
   "metadata": {},
   "outputs": [],
   "source": [
    "# Iteration  using While loop"
   ]
  },
  {
   "cell_type": "code",
   "execution_count": 16,
   "id": "fc78dae8-0659-43c4-9100-ae388319af16",
   "metadata": {},
   "outputs": [
    {
     "name": "stdout",
     "output_type": "stream",
     "text": [
      "Ironman\n",
      "Thor\n",
      "The Captain America\n",
      "Hulk\n"
     ]
    }
   ],
   "source": [
    "i=0\n",
    "while i < (len(a)):\n",
    "    print(a[i])\n",
    "    i +=1"
   ]
  },
  {
   "cell_type": "code",
   "execution_count": null,
   "id": "e379790d-0761-4425-bb3b-4efd57edf2ec",
   "metadata": {},
   "outputs": [],
   "source": []
  },
  {
   "cell_type": "code",
   "execution_count": 19,
   "id": "c01391c5-75e5-41d0-b5c2-390c5fb5f831",
   "metadata": {},
   "outputs": [],
   "source": [
    "# Using Short-Hand for loop"
   ]
  },
  {
   "cell_type": "code",
   "execution_count": 21,
   "id": "cf6c1797-f28d-4fd5-bb39-546210a0bd96",
   "metadata": {},
   "outputs": [
    {
     "name": "stdout",
     "output_type": "stream",
     "text": [
      "Ironman\n",
      "Thor\n",
      "The Captain America\n",
      "Hulk\n"
     ]
    },
    {
     "data": {
      "text/plain": [
       "[None, None, None, None]"
      ]
     },
     "execution_count": 21,
     "metadata": {},
     "output_type": "execute_result"
    }
   ],
   "source": [
    "[print (i) for i in a]"
   ]
  },
  {
   "cell_type": "code",
   "execution_count": null,
   "id": "98cf0cd0-9fdb-4f91-9c86-64f7e67de492",
   "metadata": {},
   "outputs": [],
   "source": []
  },
  {
   "cell_type": "code",
   "execution_count": 24,
   "id": "2790e5b7-b87a-46e2-8020-97f54cb9f187",
   "metadata": {},
   "outputs": [],
   "source": [
    "# List Function"
   ]
  },
  {
   "cell_type": "code",
   "execution_count": 3,
   "id": "f35dccfb-fa29-4559-bea5-7d000cfe55a7",
   "metadata": {},
   "outputs": [
    {
     "name": "stdout",
     "output_type": "stream",
     "text": [
      "['Ironman', 'Thor', 'The Captain America', 'Hulk']\n"
     ]
    }
   ],
   "source": [
    "a=[\"Ironman\",\"Thor\",\"The Captain America\",\"Hulk\"]\n",
    "print(a)"
   ]
  },
  {
   "cell_type": "code",
   "execution_count": 5,
   "id": "0009474d-9900-4cda-b4f2-4b55c6b7d94d",
   "metadata": {},
   "outputs": [],
   "source": [
    "# To find the length of a list"
   ]
  },
  {
   "cell_type": "code",
   "execution_count": 7,
   "id": "95445752-7a5e-47cc-9633-d2fa41eb1c84",
   "metadata": {},
   "outputs": [
    {
     "name": "stdout",
     "output_type": "stream",
     "text": [
      "4\n"
     ]
    }
   ],
   "source": [
    "print(len(a))"
   ]
  },
  {
   "cell_type": "code",
   "execution_count": 9,
   "id": "d8709dd2-ba88-42cd-8ac3-a545eecf931e",
   "metadata": {},
   "outputs": [],
   "source": [
    "# To count an occurence of a particular element"
   ]
  },
  {
   "cell_type": "code",
   "execution_count": 11,
   "id": "8a668641-318e-4c42-8ebc-f818835e2036",
   "metadata": {},
   "outputs": [
    {
     "name": "stdout",
     "output_type": "stream",
     "text": [
      "1\n"
     ]
    }
   ],
   "source": [
    "print(a.count(\"Thor\"))"
   ]
  },
  {
   "cell_type": "code",
   "execution_count": 13,
   "id": "02d6a59d-0357-4560-8371-cd225e8bfdb0",
   "metadata": {},
   "outputs": [],
   "source": [
    "# to add to the list"
   ]
  },
  {
   "cell_type": "code",
   "execution_count": 15,
   "id": "70d05c00-03c4-483b-8310-5efb1d1b3c80",
   "metadata": {},
   "outputs": [
    {
     "name": "stdout",
     "output_type": "stream",
     "text": [
      "['Ironman', 'Thor', 'The Captain America', 'Hulk', 'Spiderman']\n"
     ]
    }
   ],
   "source": [
    "a.append(\"Spiderman\")\n",
    "print(a)"
   ]
  },
  {
   "cell_type": "code",
   "execution_count": null,
   "id": "3ba91911-afb9-4178-9f8b-6250c5707535",
   "metadata": {},
   "outputs": [],
   "source": []
  },
  {
   "cell_type": "code",
   "execution_count": 18,
   "id": "e08da2c4-f564-4b93-aa7e-75d5d61ca8c1",
   "metadata": {},
   "outputs": [],
   "source": [
    "# To add a specific location"
   ]
  },
  {
   "cell_type": "code",
   "execution_count": 20,
   "id": "45806da4-3a51-4b1c-8867-f6f933c721a5",
   "metadata": {},
   "outputs": [],
   "source": [
    "a.insert(2,\"Vision\")"
   ]
  },
  {
   "cell_type": "code",
   "execution_count": 22,
   "id": "9132c662-2f24-407e-808a-210c72491e17",
   "metadata": {},
   "outputs": [
    {
     "name": "stdout",
     "output_type": "stream",
     "text": [
      "['Ironman', 'Thor', 'Vision', 'The Captain America', 'Hulk', 'Spiderman']\n"
     ]
    }
   ],
   "source": [
    "print(a)"
   ]
  },
  {
   "cell_type": "code",
   "execution_count": null,
   "id": "6a854256-b5d4-42b1-92c8-398dde5328c7",
   "metadata": {},
   "outputs": [],
   "source": []
  },
  {
   "cell_type": "code",
   "execution_count": 25,
   "id": "0c754996-076d-4685-bf3f-b070a76db578",
   "metadata": {},
   "outputs": [],
   "source": [
    "# To remove from a list"
   ]
  },
  {
   "cell_type": "code",
   "execution_count": 27,
   "id": "fb59b2b2-c979-4453-89d8-dddf19c75129",
   "metadata": {},
   "outputs": [],
   "source": [
    "a.remove(\"Hulk\")"
   ]
  },
  {
   "cell_type": "code",
   "execution_count": 29,
   "id": "add71302-9527-4377-8bc6-c8d448149c3c",
   "metadata": {},
   "outputs": [
    {
     "data": {
      "text/plain": [
       "['Ironman', 'Thor', 'Vision', 'The Captain America', 'Spiderman']"
      ]
     },
     "execution_count": 29,
     "metadata": {},
     "output_type": "execute_result"
    }
   ],
   "source": [
    "a"
   ]
  },
  {
   "cell_type": "code",
   "execution_count": null,
   "id": "0aa8c932-b292-461a-93ca-fd00d2ebfeb9",
   "metadata": {},
   "outputs": [],
   "source": []
  },
  {
   "cell_type": "code",
   "execution_count": 32,
   "id": "74e94b19-e2d8-4e80-86b8-d557a5ee76f0",
   "metadata": {},
   "outputs": [],
   "source": [
    "# To remove from a specific location"
   ]
  },
  {
   "cell_type": "code",
   "execution_count": 34,
   "id": "00145bcf-b03d-4f22-82f7-4a737f3f0ae0",
   "metadata": {},
   "outputs": [
    {
     "name": "stdout",
     "output_type": "stream",
     "text": [
      "Thor\n"
     ]
    }
   ],
   "source": [
    "print(a.pop(1))"
   ]
  },
  {
   "cell_type": "code",
   "execution_count": null,
   "id": "ab5f7b75-fa90-441b-868f-a62b9a10c0d6",
   "metadata": {},
   "outputs": [],
   "source": []
  },
  {
   "cell_type": "code",
   "execution_count": null,
   "id": "3cd87844-af57-48f0-9066-077324e8652f",
   "metadata": {},
   "outputs": [],
   "source": []
  },
  {
   "cell_type": "code",
   "execution_count": 38,
   "id": "8cddea1a-50d0-4b1d-bc16-5b0611f674d4",
   "metadata": {},
   "outputs": [],
   "source": [
    "# To create a copy of a list"
   ]
  },
  {
   "cell_type": "code",
   "execution_count": 40,
   "id": "53a3dfa2-b07a-4672-922a-ab172ee1955d",
   "metadata": {},
   "outputs": [
    {
     "name": "stdout",
     "output_type": "stream",
     "text": [
      "[]\n"
     ]
    }
   ],
   "source": [
    "b=[]\n",
    "print(b)\n",
    "b=a.copy()\n"
   ]
  },
  {
   "cell_type": "code",
   "execution_count": 42,
   "id": "85a5eaa0-1bc9-4b63-8aea-4081ca2f78db",
   "metadata": {},
   "outputs": [
    {
     "name": "stdout",
     "output_type": "stream",
     "text": [
      "['Ironman', 'Vision', 'The Captain America', 'Spiderman']\n"
     ]
    }
   ],
   "source": [
    "print(b)"
   ]
  },
  {
   "cell_type": "code",
   "execution_count": null,
   "id": "a3512fe4-9673-4d9d-81ec-400be47993d1",
   "metadata": {},
   "outputs": [],
   "source": []
  },
  {
   "cell_type": "code",
   "execution_count": 45,
   "id": "acb0142c-70fb-4784-a55e-22ed2ac42c19",
   "metadata": {},
   "outputs": [],
   "source": [
    "# To access an element"
   ]
  },
  {
   "cell_type": "code",
   "execution_count": 47,
   "id": "0556c932-e02f-4bef-90e6-6f3f3522bc26",
   "metadata": {},
   "outputs": [
    {
     "name": "stdout",
     "output_type": "stream",
     "text": [
      "0\n"
     ]
    }
   ],
   "source": [
    "print(a.index(\"Ironman\"))"
   ]
  },
  {
   "cell_type": "code",
   "execution_count": null,
   "id": "1788b325-51ef-40bd-8991-fa54973b7059",
   "metadata": {},
   "outputs": [],
   "source": []
  },
  {
   "cell_type": "code",
   "execution_count": 50,
   "id": "5c05f42f-36d9-47d8-aaea-2b9328f17d9d",
   "metadata": {},
   "outputs": [],
   "source": [
    "# To extend list"
   ]
  },
  {
   "cell_type": "code",
   "execution_count": 52,
   "id": "41277639-9e64-405a-8e24-53a1898cbebb",
   "metadata": {},
   "outputs": [
    {
     "name": "stdout",
     "output_type": "stream",
     "text": [
      "['Ironman', 'Vision', 'The Captain America', 'Spiderman', 'Version', 'Spiderman']\n"
     ]
    }
   ],
   "source": [
    "c=[\"Version\",\"Spiderman\"]\n",
    "a.extend(c)\n",
    "print(a)"
   ]
  },
  {
   "cell_type": "code",
   "execution_count": null,
   "id": "b24feaa4-95a3-43ed-b322-ce76badc4056",
   "metadata": {},
   "outputs": [],
   "source": []
  },
  {
   "cell_type": "code",
   "execution_count": 55,
   "id": "f614a41d-456b-47d8-a920-6bc780339a4b",
   "metadata": {},
   "outputs": [],
   "source": [
    "# To remove the list"
   ]
  },
  {
   "cell_type": "code",
   "execution_count": 57,
   "id": "30f27c20-c138-4c4e-bd2b-453869d1810f",
   "metadata": {},
   "outputs": [
    {
     "name": "stdout",
     "output_type": "stream",
     "text": [
      "['Spiderman', 'Version', 'Spiderman', 'The Captain America', 'Vision', 'Ironman']\n"
     ]
    }
   ],
   "source": [
    "a.reverse()\n",
    "print(a)"
   ]
  },
  {
   "cell_type": "code",
   "execution_count": null,
   "id": "0b9d65a5-d2fa-4857-a505-7bbfa24f66e0",
   "metadata": {},
   "outputs": [],
   "source": []
  },
  {
   "cell_type": "code",
   "execution_count": 60,
   "id": "a5529835-319a-46fe-9744-b8fbe909e016",
   "metadata": {},
   "outputs": [],
   "source": [
    "# To sort the list"
   ]
  },
  {
   "cell_type": "code",
   "execution_count": 62,
   "id": "6da3caff-a774-4b13-884a-562b86d3e69e",
   "metadata": {},
   "outputs": [
    {
     "name": "stdout",
     "output_type": "stream",
     "text": [
      "['Ironman', 'Spiderman', 'Spiderman', 'The Captain America', 'Version', 'Vision']\n"
     ]
    }
   ],
   "source": [
    "a.sort()\n",
    "print(a)"
   ]
  },
  {
   "cell_type": "code",
   "execution_count": 64,
   "id": "d2abebfd-72dd-4379-bf31-78872ece752e",
   "metadata": {},
   "outputs": [],
   "source": [
    "# To clear the data"
   ]
  },
  {
   "cell_type": "code",
   "execution_count": 66,
   "id": "f64f7a55-3cf8-45bf-9bd9-836f996dd08e",
   "metadata": {},
   "outputs": [
    {
     "name": "stdout",
     "output_type": "stream",
     "text": [
      "[]\n"
     ]
    }
   ],
   "source": [
    "a.clear()\n",
    "print(a)"
   ]
  },
  {
   "cell_type": "code",
   "execution_count": null,
   "id": "ce10120b-0064-4832-b9f9-d3c6cda0e56a",
   "metadata": {},
   "outputs": [],
   "source": []
  },
  {
   "cell_type": "markdown",
   "id": "be9916b6-cb96-4758-b9e4-a7630093c9f7",
   "metadata": {},
   "source": [
    "# List comprehenion"
   ]
  },
  {
   "cell_type": "code",
   "execution_count": 88,
   "id": "f94ba625-0b96-4bf0-8afa-d20ea7bddb5d",
   "metadata": {},
   "outputs": [],
   "source": [
    "# List comprehension is used when we have to copy the list of one list to another list."
   ]
  },
  {
   "cell_type": "code",
   "execution_count": 90,
   "id": "2b3a54b2-6750-40d8-a23d-f4c522f6fb40",
   "metadata": {},
   "outputs": [
    {
     "name": "stdout",
     "output_type": "stream",
     "text": [
      "30\n",
      "40\n",
      "50\n",
      "60\n"
     ]
    }
   ],
   "source": [
    "L1=[30,40,50,60]\n",
    "l2=[]\n",
    "for i in L1:\n",
    "    print(i)"
   ]
  },
  {
   "cell_type": "code",
   "execution_count": 92,
   "id": "5ef56aa7-3ca3-432c-9d8b-4b1036d85842",
   "metadata": {},
   "outputs": [
    {
     "name": "stdout",
     "output_type": "stream",
     "text": [
      "[30, 40, 50, 60]\n"
     ]
    }
   ],
   "source": [
    "L1=[30,40,50,60]\n",
    "l2=[]\n",
    "for i in L1:\n",
    "    l2.append(i)\n",
    "\n",
    "print(l2)\n",
    "    "
   ]
  },
  {
   "cell_type": "code",
   "execution_count": 94,
   "id": "85d3f18e-f793-4160-9e5c-83b7b8ecd0b9",
   "metadata": {},
   "outputs": [
    {
     "name": "stdout",
     "output_type": "stream",
     "text": [
      "[30, 40, 50, 60]\n"
     ]
    }
   ],
   "source": [
    "l3=[i for i in L1]\n",
    "print(l3)"
   ]
  },
  {
   "cell_type": "code",
   "execution_count": null,
   "id": "ecea4726-21b0-4ba0-afe2-73974730310e",
   "metadata": {},
   "outputs": [],
   "source": []
  }
 ],
 "metadata": {
  "kernelspec": {
   "display_name": "Python [conda env:base] *",
   "language": "python",
   "name": "conda-base-py"
  },
  "language_info": {
   "codemirror_mode": {
    "name": "ipython",
    "version": 3
   },
   "file_extension": ".py",
   "mimetype": "text/x-python",
   "name": "python",
   "nbconvert_exporter": "python",
   "pygments_lexer": "ipython3",
   "version": "3.12.7"
  }
 },
 "nbformat": 4,
 "nbformat_minor": 5
}
